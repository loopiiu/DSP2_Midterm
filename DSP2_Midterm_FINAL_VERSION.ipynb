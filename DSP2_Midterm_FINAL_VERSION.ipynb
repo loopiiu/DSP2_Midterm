{
 "cells": [
  {
   "cell_type": "markdown",
   "id": "72023e26",
   "metadata": {},
   "source": [
    "<img src=\"https://astanait.edu.kz/wp-content/uploads/2020/05/aitu-logo-2-600x315.png\" width=\"300\" height=\"222\">\n",
    "<center><p style=\"text-align: center;  font-size: 20px;\"> Faculty of Information Technology </p></center>\n",
    "<center><p style=\"text-align: center;  font-size: 20px;\"> Big Data Analysis </p></center>\n",
    "    \n",
    "<br>\n",
    "<br>   \n",
    "<br>\n",
    "<br>\n",
    "<br>\n",
    "<br>   \n",
    "\n",
    "<h1 style=\"text-align: center\"> Midterm Project </h1>\n",
    "<h1 style=\"text-align: center\"> Data Science Programming 2</h1> \n",
    " \n",
    "<br>\n",
    "<br>\n",
    "<br>\n",
    "<br>\n",
    "<br>\n",
    "\n",
    "\n",
    "<h3 style=\"text-align: right\">Group:</h3>\n",
    "<p style=\"text-align: right; font-size: 15px; margin-right: 49px;\">BDA-2008</h3> \n",
    "\n",
    "<h3 style=\"text-align: right\">Prepared by:</h3>\n",
    "<p style=\"text-align: right; font-size: 15px; margin-right: 49px;\">Alua Onayeva,</h3>   \n",
    "<p style=\"text-align: right; font-size: 15px; margin-right: 49px;\">Ayazhan Sydyk, </h3>\n",
    "<p style=\"text-align: right; font-size: 15px; margin-right: 49px;\">Aibolsyn Aibekkyzy</h3>\n",
    "\n",
    "<h3 style=\"text-align: right\">Instructor:</h3><p style=\"text-align: right; font-size: 15px; margin-right: 49px;\">  Kaisar Mussalim</p>\n",
    "\n",
    "<br>\n",
    "<br>\n",
    "<br>\n",
    "<br>\n",
    "\n",
    "<p style=\"text-align: center; font-size: 15px; margin-right: 49px;\">Nur-Sultan, 2022</h3>\n",
    "<br>\n",
    "<br>"
   ]
  },
  {
   "cell_type": "markdown",
   "id": "4b960f11",
   "metadata": {},
   "source": [
    "# Outline:\n",
    "\n",
    "### [1. Data and Task presentation](#section1)\n",
    "  - ### [1.1  Exploring the Dataset](#section11)\n",
    "  - ### [1.2  Exploratory Data Analysis(EDA)](#section12)\n",
    "  \n",
    "### [2. Data Preprocessing](#section2)\n",
    "- ### [2.1 Data Cleaning](#section21)\n",
    "- ### [2.2 Dealing with Outliers](#section22)\n",
    "- ### [2.3 Feature Engineering ](#section23)\n",
    "- ### [2.4 Dealing with missing values](#section24)\n",
    "     - ### [2.4.1 'OtherDatabases' column](#section241)\n",
    "     - ### [2.4.2 'Gender' column](#section242)\n",
    "     - ### [2.4.3 'OtherJobDuties' column](#section243)\n",
    "     - ### [2.4.4 'KindsOfTasksPerformed' column](#section244)\n",
    "     - ### [2.4.5 'Education' column](#section245)\n",
    "- ### [2.5 Correlation Matrix](#section25)    \n",
    "\n",
    "### [3. Models](#section3)\n",
    "- ### [3.1 Feature Selection](#section31)\n",
    "- ### [3.2 Linear Regression](#section32)\n",
    "- ### [3.3 Polynomial Regression](#section33)\n",
    "- ### [3.4 Ridge Regression](#section34)\n",
    "- ### [3.5 Lasso Regression](#section35)\n",
    "- ### [3.6 Random Forest Regressor](#section36)\n",
    "- ### [3.7 K Neighbors Regressor](#section37)\n",
    "\n",
    "### [4. Conclusion](#section4)\n",
    "\n"
   ]
  },
  {
   "cell_type": "code",
   "execution_count": 1,
   "id": "a1031b6d",
   "metadata": {},
   "outputs": [],
   "source": [
    "import warnings\n",
    "warnings.filterwarnings('ignore')"
   ]
  },
  {
   "cell_type": "code",
   "execution_count": 2,
   "id": "39b74a28",
   "metadata": {},
   "outputs": [],
   "source": [
    "import numpy as np\n",
    "import pandas as pd\n",
    "import matplotlib.pyplot as plt \n",
    "import seaborn as sns\n",
    "\n",
    "import sklearn\n",
    "import statsmodels.api as sm\n",
    "from sklearn.model_selection import cross_val_score\n",
    "from sklearn.linear_model import LogisticRegression\n",
    "from sklearn.model_selection import train_test_split\n",
    "from sklearn import metrics\n",
    "from sklearn.ensemble import RandomForestRegressor"
   ]
  },
  {
   "cell_type": "markdown",
   "id": "83cdc04e",
   "metadata": {},
   "source": [
    "## Evaluation criteria:\n",
    "\n",
    "1. Data and task presentation - 10%\n",
    "2. Data preprocessing - 20%\n",
    "3. Model (variety, difficulties, improvement) - 30%\n",
    "4. Code quality - 10%\n",
    "5. Results and Defence - 30%"
   ]
  },
  {
   "cell_type": "markdown",
   "id": "86097d31",
   "metadata": {},
   "source": [
    "## <a id='section1'>1. Task Description</a>\n",
    "\n",
    "In this work we are going to use different models of machine learning in order to predict the salary of the Data Scientists."
   ]
  },
  {
   "cell_type": "markdown",
   "id": "45756be8",
   "metadata": {},
   "source": [
    "## <a id='section11'>1.1 Exploring the dataset</a>"
   ]
  },
  {
   "cell_type": "markdown",
   "id": "87180ac4",
   "metadata": {},
   "source": [
    "__Comment:__ This is a dataset about the salaries of Data Scientists."
   ]
  },
  {
   "cell_type": "code",
   "execution_count": 3,
   "id": "f48b4445",
   "metadata": {},
   "outputs": [
    {
     "data": {
      "text/html": [
       "<div>\n",
       "<style scoped>\n",
       "    .dataframe tbody tr th:only-of-type {\n",
       "        vertical-align: middle;\n",
       "    }\n",
       "\n",
       "    .dataframe tbody tr th {\n",
       "        vertical-align: top;\n",
       "    }\n",
       "\n",
       "    .dataframe thead th {\n",
       "        text-align: right;\n",
       "    }\n",
       "</style>\n",
       "<table border=\"1\" class=\"dataframe\">\n",
       "  <thead>\n",
       "    <tr style=\"text-align: right;\">\n",
       "      <th></th>\n",
       "      <th>Survey Year</th>\n",
       "      <th>Timestamp</th>\n",
       "      <th>SalaryUSD</th>\n",
       "      <th>Country</th>\n",
       "      <th>PostalCode</th>\n",
       "      <th>PrimaryDatabase</th>\n",
       "      <th>YearsWithThisDatabase</th>\n",
       "      <th>OtherDatabases</th>\n",
       "      <th>EmploymentStatus</th>\n",
       "      <th>JobTitle</th>\n",
       "      <th>...</th>\n",
       "      <th>HoursWorkedPerWeek</th>\n",
       "      <th>TelecommuteDaysPerWeek</th>\n",
       "      <th>PopulationOfLargestCityWithin20Miles</th>\n",
       "      <th>EmploymentSector</th>\n",
       "      <th>LookingForAnotherJob</th>\n",
       "      <th>CareerPlansThisYear</th>\n",
       "      <th>Gender</th>\n",
       "      <th>OtherJobDuties</th>\n",
       "      <th>KindsOfTasksPerformed</th>\n",
       "      <th>Counter</th>\n",
       "    </tr>\n",
       "  </thead>\n",
       "  <tbody>\n",
       "    <tr>\n",
       "      <th>0</th>\n",
       "      <td>2017</td>\n",
       "      <td>2017-01-05 05:10:20.451</td>\n",
       "      <td>200000</td>\n",
       "      <td>United States</td>\n",
       "      <td>Not Asked</td>\n",
       "      <td>Microsoft SQL Server</td>\n",
       "      <td>10</td>\n",
       "      <td>MySQL/MariaDB</td>\n",
       "      <td>Full time employee</td>\n",
       "      <td>DBA</td>\n",
       "      <td>...</td>\n",
       "      <td>45</td>\n",
       "      <td>1</td>\n",
       "      <td>Not Asked</td>\n",
       "      <td>Private business</td>\n",
       "      <td>Yes, but only passively (just curious)</td>\n",
       "      <td>Not Asked</td>\n",
       "      <td>Not Asked</td>\n",
       "      <td>Not Asked</td>\n",
       "      <td>Not Asked</td>\n",
       "      <td>1</td>\n",
       "    </tr>\n",
       "    <tr>\n",
       "      <th>1</th>\n",
       "      <td>2017</td>\n",
       "      <td>2017-01-05 05:26:23.388</td>\n",
       "      <td>61515</td>\n",
       "      <td>United Kingdom</td>\n",
       "      <td>Not Asked</td>\n",
       "      <td>Microsoft SQL Server</td>\n",
       "      <td>15</td>\n",
       "      <td>Oracle, PostgreSQL</td>\n",
       "      <td>Full time employee</td>\n",
       "      <td>DBA</td>\n",
       "      <td>...</td>\n",
       "      <td>35</td>\n",
       "      <td>2</td>\n",
       "      <td>Not Asked</td>\n",
       "      <td>Private business</td>\n",
       "      <td>No</td>\n",
       "      <td>Not Asked</td>\n",
       "      <td>Not Asked</td>\n",
       "      <td>Not Asked</td>\n",
       "      <td>Not Asked</td>\n",
       "      <td>1</td>\n",
       "    </tr>\n",
       "    <tr>\n",
       "      <th>2</th>\n",
       "      <td>2017</td>\n",
       "      <td>2017-01-05 05:32:57.367</td>\n",
       "      <td>95000</td>\n",
       "      <td>Germany</td>\n",
       "      <td>Not Asked</td>\n",
       "      <td>Microsoft SQL Server</td>\n",
       "      <td>5</td>\n",
       "      <td>Oracle, MySQL/MariaDB, Informix</td>\n",
       "      <td>Full time employee</td>\n",
       "      <td>Other</td>\n",
       "      <td>...</td>\n",
       "      <td>45</td>\n",
       "      <td>None, or less than 1 day per week</td>\n",
       "      <td>Not Asked</td>\n",
       "      <td>Private business</td>\n",
       "      <td>Yes, but only passively (just curious)</td>\n",
       "      <td>Not Asked</td>\n",
       "      <td>Not Asked</td>\n",
       "      <td>Not Asked</td>\n",
       "      <td>Not Asked</td>\n",
       "      <td>1</td>\n",
       "    </tr>\n",
       "    <tr>\n",
       "      <th>3</th>\n",
       "      <td>2017</td>\n",
       "      <td>2017-01-05 05:33:03.316</td>\n",
       "      <td>56000</td>\n",
       "      <td>United Kingdom</td>\n",
       "      <td>Not Asked</td>\n",
       "      <td>Microsoft SQL Server</td>\n",
       "      <td>6</td>\n",
       "      <td>NaN</td>\n",
       "      <td>Full time employee</td>\n",
       "      <td>DBA</td>\n",
       "      <td>...</td>\n",
       "      <td>40</td>\n",
       "      <td>1</td>\n",
       "      <td>Not Asked</td>\n",
       "      <td>Private business</td>\n",
       "      <td>Yes, but only passively (just curious)</td>\n",
       "      <td>Not Asked</td>\n",
       "      <td>Not Asked</td>\n",
       "      <td>Not Asked</td>\n",
       "      <td>Not Asked</td>\n",
       "      <td>1</td>\n",
       "    </tr>\n",
       "    <tr>\n",
       "      <th>4</th>\n",
       "      <td>2017</td>\n",
       "      <td>2017-01-05 05:34:33.866</td>\n",
       "      <td>35000</td>\n",
       "      <td>France</td>\n",
       "      <td>Not Asked</td>\n",
       "      <td>Microsoft SQL Server</td>\n",
       "      <td>10</td>\n",
       "      <td>Oracle</td>\n",
       "      <td>Full time employee of a consulting/contracting...</td>\n",
       "      <td>DBA</td>\n",
       "      <td>...</td>\n",
       "      <td>40</td>\n",
       "      <td>None, or less than 1 day per week</td>\n",
       "      <td>Not Asked</td>\n",
       "      <td>Private business</td>\n",
       "      <td>Yes, but only passively (just curious)</td>\n",
       "      <td>Not Asked</td>\n",
       "      <td>Not Asked</td>\n",
       "      <td>Not Asked</td>\n",
       "      <td>Not Asked</td>\n",
       "      <td>1</td>\n",
       "    </tr>\n",
       "  </tbody>\n",
       "</table>\n",
       "<p>5 rows × 29 columns</p>\n",
       "</div>"
      ],
      "text/plain": [
       "   Survey Year               Timestamp SalaryUSD         Country PostalCode  \\\n",
       "0         2017 2017-01-05 05:10:20.451    200000   United States  Not Asked   \n",
       "1         2017 2017-01-05 05:26:23.388     61515  United Kingdom  Not Asked   \n",
       "2         2017 2017-01-05 05:32:57.367     95000         Germany  Not Asked   \n",
       "3         2017 2017-01-05 05:33:03.316     56000  United Kingdom  Not Asked   \n",
       "4         2017 2017-01-05 05:34:33.866     35000          France  Not Asked   \n",
       "\n",
       "        PrimaryDatabase  YearsWithThisDatabase  \\\n",
       "0  Microsoft SQL Server                     10   \n",
       "1  Microsoft SQL Server                     15   \n",
       "2  Microsoft SQL Server                      5   \n",
       "3  Microsoft SQL Server                      6   \n",
       "4  Microsoft SQL Server                     10   \n",
       "\n",
       "                    OtherDatabases  \\\n",
       "0                    MySQL/MariaDB   \n",
       "1               Oracle, PostgreSQL   \n",
       "2  Oracle, MySQL/MariaDB, Informix   \n",
       "3                              NaN   \n",
       "4                           Oracle   \n",
       "\n",
       "                                    EmploymentStatus JobTitle  ...  \\\n",
       "0                                 Full time employee      DBA  ...   \n",
       "1                                 Full time employee      DBA  ...   \n",
       "2                                 Full time employee    Other  ...   \n",
       "3                                 Full time employee      DBA  ...   \n",
       "4  Full time employee of a consulting/contracting...      DBA  ...   \n",
       "\n",
       "  HoursWorkedPerWeek             TelecommuteDaysPerWeek  \\\n",
       "0                 45                                  1   \n",
       "1                 35                                  2   \n",
       "2                 45  None, or less than 1 day per week   \n",
       "3                 40                                  1   \n",
       "4                 40  None, or less than 1 day per week   \n",
       "\n",
       "  PopulationOfLargestCityWithin20Miles  EmploymentSector  \\\n",
       "0                            Not Asked  Private business   \n",
       "1                            Not Asked  Private business   \n",
       "2                            Not Asked  Private business   \n",
       "3                            Not Asked  Private business   \n",
       "4                            Not Asked  Private business   \n",
       "\n",
       "                     LookingForAnotherJob  CareerPlansThisYear     Gender  \\\n",
       "0  Yes, but only passively (just curious)            Not Asked  Not Asked   \n",
       "1                                      No            Not Asked  Not Asked   \n",
       "2  Yes, but only passively (just curious)            Not Asked  Not Asked   \n",
       "3  Yes, but only passively (just curious)            Not Asked  Not Asked   \n",
       "4  Yes, but only passively (just curious)            Not Asked  Not Asked   \n",
       "\n",
       "  OtherJobDuties KindsOfTasksPerformed  Counter  \n",
       "0      Not Asked             Not Asked        1  \n",
       "1      Not Asked             Not Asked        1  \n",
       "2      Not Asked             Not Asked        1  \n",
       "3      Not Asked             Not Asked        1  \n",
       "4      Not Asked             Not Asked        1  \n",
       "\n",
       "[5 rows x 29 columns]"
      ]
     },
     "execution_count": 3,
     "metadata": {},
     "output_type": "execute_result"
    }
   ],
   "source": [
    "data = pd.read_excel('salary.xlsx')\n",
    "data.head()"
   ]
  },
  {
   "cell_type": "code",
   "execution_count": 4,
   "id": "d574baf0",
   "metadata": {},
   "outputs": [
    {
     "data": {
      "text/plain": [
       "Index(['Survey Year', 'Timestamp', 'SalaryUSD', 'Country', 'PostalCode',\n",
       "       'PrimaryDatabase', 'YearsWithThisDatabase', 'OtherDatabases',\n",
       "       'EmploymentStatus', 'JobTitle', 'ManageStaff', 'YearsWithThisTypeOfJob',\n",
       "       'HowManyCompanies', 'OtherPeopleOnYourTeam', 'CompanyEmployeesOverall',\n",
       "       'DatabaseServers', 'Education', 'EducationIsComputerRelated',\n",
       "       'Certifications', 'HoursWorkedPerWeek', 'TelecommuteDaysPerWeek',\n",
       "       'PopulationOfLargestCityWithin20Miles', 'EmploymentSector',\n",
       "       'LookingForAnotherJob', 'CareerPlansThisYear', 'Gender',\n",
       "       'OtherJobDuties', 'KindsOfTasksPerformed', 'Counter'],\n",
       "      dtype='object')"
      ]
     },
     "execution_count": 4,
     "metadata": {},
     "output_type": "execute_result"
    }
   ],
   "source": [
    "data.columns"
   ]
  },
  {
   "cell_type": "markdown",
   "id": "c2d7d2b0",
   "metadata": {},
   "source": [
    "#### Columns' description: \n",
    "- Survey Year - years when the survey was conducted.\n",
    "- Timestamp - datetime when the form was filled.\n",
    "- SalaryUSD - salary of the interviewee.\n",
    "- Country - country of residence.\n",
    "- PostalCode - postal code.\n",
    "- PrimaryDatabase - primary database used\n",
    "- YearsWithThisDatabase - how many years have been used this database?\n",
    "- OtherDatabases - other databases used\n",
    "- EmploymentStatus - employment status\n",
    "- JobTitle - job title\n",
    "- ManageStaff - whether or not they manage staff\n",
    "- YearsWithThisTypeOfJob - years working in this type of job\n",
    "- HowManyCompanies - how many companies have you worked for? \n",
    "- OtherPeopleOnYourTeam - how many people are on your team?\n",
    "- CompanyEmployeesOverall - how many employees your company has?\n",
    "- DatabaseServers - database servers\n",
    "- Education - highest level of education\n",
    "- EducationIsComputerRelated - whether education was computer related\n",
    "- Certifications - certifications\n",
    "- HoursWorkedPerWeek - how many hours worked per week\n",
    "- TelecommuteDaysPerWeek - telecommute days per week\n",
    "- PopulationOfLargestCityWithin20Miles - population of largest city within 20 miles\n",
    "- EmploymentSector - employment sector\n",
    "- LookingForAnotherJob - looking for another job?\n",
    "- CareerPlansThisYear - what kind of career plans for this year?\n",
    "- Gender - gender of employees\n",
    "- OtherJobDuties - any other job duties\n",
    "- KindsOfTasksPerformed - kinds of tasks performed\n",
    "- Counter"
   ]
  },
  {
   "cell_type": "code",
   "execution_count": 5,
   "id": "0d2a4e47",
   "metadata": {},
   "outputs": [
    {
     "data": {
      "text/plain": [
       "(6893, 29)"
      ]
     },
     "execution_count": 5,
     "metadata": {},
     "output_type": "execute_result"
    }
   ],
   "source": [
    "data.shape"
   ]
  },
  {
   "cell_type": "markdown",
   "id": "d266bfed",
   "metadata": {},
   "source": [
    "__Comment:__ We have got 6893 number of observations with 29 columns."
   ]
  },
  {
   "cell_type": "markdown",
   "id": "f2e14db3",
   "metadata": {},
   "source": [
    "## <a id='section2'>2. Data preprocessing</a>"
   ]
  },
  {
   "cell_type": "code",
   "execution_count": 6,
   "id": "258ecd16",
   "metadata": {},
   "outputs": [
    {
     "data": {
      "text/plain": [
       "Survey Year                                0\n",
       "Timestamp                                  0\n",
       "SalaryUSD                                  0\n",
       "Country                                    0\n",
       "PostalCode                               959\n",
       "PrimaryDatabase                            0\n",
       "YearsWithThisDatabase                      0\n",
       "OtherDatabases                          1373\n",
       "EmploymentStatus                           0\n",
       "JobTitle                                   0\n",
       "ManageStaff                                0\n",
       "YearsWithThisTypeOfJob                     0\n",
       "HowManyCompanies                           0\n",
       "OtherPeopleOnYourTeam                      0\n",
       "CompanyEmployeesOverall                    0\n",
       "DatabaseServers                            0\n",
       "Education                                  0\n",
       "EducationIsComputerRelated              1216\n",
       "Certifications                             0\n",
       "HoursWorkedPerWeek                         0\n",
       "TelecommuteDaysPerWeek                     0\n",
       "PopulationOfLargestCityWithin20Miles       0\n",
       "EmploymentSector                           0\n",
       "LookingForAnotherJob                       0\n",
       "CareerPlansThisYear                        0\n",
       "Gender                                     0\n",
       "OtherJobDuties                           620\n",
       "KindsOfTasksPerformed                    207\n",
       "Counter                                    0\n",
       "dtype: int64"
      ]
     },
     "execution_count": 6,
     "metadata": {},
     "output_type": "execute_result"
    }
   ],
   "source": [
    "# counting null values in our dataset\n",
    "data.isnull().sum()"
   ]
  },
  {
   "cell_type": "code",
   "execution_count": 7,
   "id": "a067fdfe",
   "metadata": {},
   "outputs": [
    {
     "name": "stdout",
     "output_type": "stream",
     "text": [
      "<class 'pandas.core.frame.DataFrame'>\n",
      "RangeIndex: 6893 entries, 0 to 6892\n",
      "Data columns (total 29 columns):\n",
      " #   Column                                Non-Null Count  Dtype         \n",
      "---  ------                                --------------  -----         \n",
      " 0   Survey Year                           6893 non-null   int64         \n",
      " 1   Timestamp                             6893 non-null   datetime64[ns]\n",
      " 2   SalaryUSD                             6893 non-null   object        \n",
      " 3   Country                               6893 non-null   object        \n",
      " 4   PostalCode                            5934 non-null   object        \n",
      " 5   PrimaryDatabase                       6893 non-null   object        \n",
      " 6   YearsWithThisDatabase                 6893 non-null   int64         \n",
      " 7   OtherDatabases                        5520 non-null   object        \n",
      " 8   EmploymentStatus                      6893 non-null   object        \n",
      " 9   JobTitle                              6893 non-null   object        \n",
      " 10  ManageStaff                           6893 non-null   object        \n",
      " 11  YearsWithThisTypeOfJob                6893 non-null   int64         \n",
      " 12  HowManyCompanies                      6893 non-null   object        \n",
      " 13  OtherPeopleOnYourTeam                 6893 non-null   object        \n",
      " 14  CompanyEmployeesOverall               6893 non-null   object        \n",
      " 15  DatabaseServers                       6893 non-null   int64         \n",
      " 16  Education                             6893 non-null   object        \n",
      " 17  EducationIsComputerRelated            5677 non-null   object        \n",
      " 18  Certifications                        6893 non-null   object        \n",
      " 19  HoursWorkedPerWeek                    6893 non-null   int64         \n",
      " 20  TelecommuteDaysPerWeek                6893 non-null   object        \n",
      " 21  PopulationOfLargestCityWithin20Miles  6893 non-null   object        \n",
      " 22  EmploymentSector                      6893 non-null   object        \n",
      " 23  LookingForAnotherJob                  6893 non-null   object        \n",
      " 24  CareerPlansThisYear                   6893 non-null   object        \n",
      " 25  Gender                                6893 non-null   object        \n",
      " 26  OtherJobDuties                        6273 non-null   object        \n",
      " 27  KindsOfTasksPerformed                 6686 non-null   object        \n",
      " 28  Counter                               6893 non-null   int64         \n",
      "dtypes: datetime64[ns](1), int64(6), object(22)\n",
      "memory usage: 1.5+ MB\n"
     ]
    }
   ],
   "source": [
    "data.info()"
   ]
  },
  {
   "cell_type": "markdown",
   "id": "ba54334c",
   "metadata": {},
   "source": [
    "__Comment:__ Except for 5 columns, such as 'YearsWithThisTypeOfJob', 'DatabaseServers', other columns are categorical with the type of object.<br>\n",
    "Even our targer variable __'SalaryUSD'__ is written as a string."
   ]
  },
  {
   "cell_type": "code",
   "execution_count": 8,
   "id": "41a051e1",
   "metadata": {},
   "outputs": [],
   "source": [
    "data['SalaryUSD'] = [float(str(val).replace(' ','').replace(',','')) for val in data['SalaryUSD'].values]"
   ]
  },
  {
   "cell_type": "markdown",
   "id": "48e24774",
   "metadata": {},
   "source": [
    "__Comment:__ So we converted _'SalaryUSD'_ column to float type. Some of the values also were in the form of 30 000 or 30,000."
   ]
  },
  {
   "cell_type": "markdown",
   "id": "d097a28e",
   "metadata": {},
   "source": [
    "## <a id='section12'>1.2 Exploratory Data Analysis (EDA)</a>"
   ]
  },
  {
   "cell_type": "code",
   "execution_count": 9,
   "id": "3c3a357a",
   "metadata": {},
   "outputs": [
    {
     "data": {
      "image/png": "[encoded data removed]",
      "text/plain": [
       "<Figure size 720x432 with 1 Axes>"
      ]
     },
     "metadata": {
      "needs_background": "light"
     },
     "output_type": "display_data"
    }
   ],
   "source": [
    "plt.figure(figsize=(10, 6))\n",
    "sns.boxplot(data=data, x= data['SalaryUSD']).set(title='Boxplot of the salary');"
   ]
  },
  {
   "cell_type": "markdown",
   "id": "d2278baa",
   "metadata": {},
   "source": [
    "__Comment:__ Here is our boxplot illustration of 'SalaryUSD' column. As it can be seen from the graph, we have too many outliers."
   ]
  },
  {
   "cell_type": "code",
   "execution_count": 10,
   "id": "354c63ff",
   "metadata": {},
   "outputs": [
    {
     "data": {
      "image/png": "[encoded data removed]",
      "text/plain": [
       "<Figure size 720x432 with 1 Axes>"
      ]
     },
     "metadata": {
      "needs_background": "light"
     },
     "output_type": "display_data"
    }
   ],
   "source": [
    "plt.figure(figsize=(10, 6))\n",
    "sns.regplot(x='YearsWithThisTypeOfJob', y='SalaryUSD', data=data, \n",
    "            line_kws={'color':'red'}).set(title='Regression line on years of experience')\n",
    "plt.ylim(0,);"
   ]
  },
  {
   "cell_type": "markdown",
   "id": "2ae0840d",
   "metadata": {},
   "source": [
    "__Comment:__ Depiction of regression line on 'YearsWithThisTypeOfJob' and 'SalaryUSD'."
   ]
  },
  {
   "cell_type": "code",
   "execution_count": 11,
   "id": "20a4c916",
   "metadata": {},
   "outputs": [
    {
     "data": {
      "image/png": "[encoded data removed]",
      "text/plain": [
       "<Figure size 1440x576 with 1 Axes>"
      ]
     },
     "metadata": {
      "needs_background": "light"
     },
     "output_type": "display_data"
    }
   ],
   "source": [
    "f, ax = plt.subplots(figsize=(20, 8))\n",
    "fig = sns.boxplot(x='EmploymentStatus', y='SalaryUSD', data=data).set(title='Boxplot for the \"EmploymentStatus\" column')\n",
    "plt.xticks(rotation=7);"
   ]
  },
  {
   "cell_type": "markdown",
   "id": "909d332b",
   "metadata": {},
   "source": [
    "__Comment:__ The graph above illustrates that the median of all employment status are approximately the same, however for freelancers this indicator is much more higher. And in comparison with other statuses, it has the least number of outliers. We can came to opinion that freelancers salary is stable."
   ]
  },
  {
   "cell_type": "code",
   "execution_count": 12,
   "id": "e1b7cd1f",
   "metadata": {},
   "outputs": [
    {
     "data": {
      "image/png": "[encoded data removed]",
      "text/plain": [
       "<Figure size 432x288 with 1 Axes>"
      ]
     },
     "metadata": {
      "needs_background": "light"
     },
     "output_type": "display_data"
    }
   ],
   "source": [
    "sns.scatterplot(data=data, x=\"SalaryUSD\", y='Education', hue='TelecommuteDaysPerWeek').set(title='Scatterplot of Education and Salary with TelecommutePerWeek parameter')\n",
    "\n",
    "# Placing Legend outside the Figure\n",
    "plt.legend(bbox_to_anchor=(1, 1), loc=2)\n",
    "plt.show()"
   ]
  },
  {
   "cell_type": "markdown",
   "id": "53f97d9a",
   "metadata": {},
   "source": [
    "__Comment:__ The scatterplot above depicts us the relationship between Education and Salary, and as an additional parameter we took 'TelecommutePerWeek' variable. Doctorate's salary is the lowest compared to others. Green ones are those who have no telecommute work. People with a bachelor's degree have the highest and most diversed salary range unlike other Education types."
   ]
  },
  {
   "cell_type": "code",
   "execution_count": 13,
   "id": "8c5bd0b7",
   "metadata": {},
   "outputs": [
    {
     "data": {
      "image/png": "[encoded data removed]",
      "text/plain": [
       "<Figure size 1800x576 with 1 Axes>"
      ]
     },
     "metadata": {
      "needs_background": "light"
     },
     "output_type": "display_data"
    }
   ],
   "source": [
    "plt.figure(figsize=(25,8))\n",
    "sns.violinplot(x=data[\"HowManyCompanies\"], \n",
    "               y=data[\"YearsWithThisTypeOfJob\"]).set(title='Relationship between HowManyCompanies and YearsWithThisTypeOfJob')\n",
    "plt.show()"
   ]
  },
  {
   "cell_type": "markdown",
   "id": "61bff24e",
   "metadata": {},
   "source": [
    "__Comment:__ The violinplot above shows relationship how many companies the person changed and the his/her years of experience.\n",
    "It can be seen that people with more work experienced tend to change more companies, in our case '5' and '6 or more' category."
   ]
  },
  {
   "cell_type": "markdown",
   "id": "967e001d",
   "metadata": {},
   "source": [
    "### Male and Female Salary Analysis"
   ]
  },
  {
   "cell_type": "code",
   "execution_count": 14,
   "id": "6e9eb763",
   "metadata": {},
   "outputs": [
    {
     "data": {
      "image/png": "[encoded data removed]",
      "text/plain": [
       "<Figure size 1080x360 with 1 Axes>"
      ]
     },
     "metadata": {
      "needs_background": "light"
     },
     "output_type": "display_data"
    },
    {
     "name": "stdout",
     "output_type": "stream",
     "text": [
      "92000.0\n",
      "0    85000.0\n",
      "dtype: float64\n",
      "91739.00733164557\n"
     ]
    }
   ],
   "source": [
    "data_woman=data[data.Gender=='Female']\n",
    "\n",
    "fig, ((axes1)) = plt.subplots(1,1, figsize=(15,5))\n",
    "sns.histplot(data = data_woman, x = 'SalaryUSD', ax = axes1)\n",
    "axes1.set_title('Frequency of salaries', fontsize=15)\n",
    "plt.show()\n",
    "\n",
    "print(data_woman.SalaryUSD.median())\n",
    "print(data_woman.SalaryUSD.mode())\n",
    "print(data_woman.SalaryUSD.mean())"
   ]
  },
  {
   "cell_type": "markdown",
   "id": "02d740e7",
   "metadata": {},
   "source": [
    "__Comment:__ Salaries of the women seems to be approximate to normal distribution."
   ]
  },
  {
   "cell_type": "code",
   "execution_count": 15,
   "id": "4c7a637b",
   "metadata": {},
   "outputs": [
    {
     "data": {
      "image/png": "[encoded data removed]",
      "text/plain": [
       "<Figure size 1080x360 with 1 Axes>"
      ]
     },
     "metadata": {
      "needs_background": "light"
     },
     "output_type": "display_data"
    },
    {
     "name": "stdout",
     "output_type": "stream",
     "text": [
      "90000.0\n",
      "0    110000.0\n",
      "dtype: float64\n",
      "94666.42680339944\n"
     ]
    }
   ],
   "source": [
    "data_man=data[data.Gender=='Male']\n",
    "\n",
    "fig, ((axes1)) = plt.subplots(1,1, figsize=(15,5))\n",
    "sns.histplot(data = data_man, x = 'SalaryUSD', ax = axes1)\n",
    "axes1.set_title('Frequency of salaries', fontsize=15)\n",
    "plt.show()\n",
    "\n",
    "print(data_man.SalaryUSD.median())\n",
    "print(data_man.SalaryUSD.mode())\n",
    "print(data_man.SalaryUSD.mean())"
   ]
  },
  {
   "cell_type": "markdown",
   "id": "0b43b26b",
   "metadata": {},
   "source": [
    "__Comment:__ However in men salaries we have a lot of outliers."
   ]
  },
  {
   "cell_type": "code",
   "execution_count": 16,
   "id": "45906c40",
   "metadata": {},
   "outputs": [],
   "source": [
    "# sns.pairplot(data)"
   ]
  },
  {
   "cell_type": "markdown",
   "id": "131e142e",
   "metadata": {},
   "source": [
    "__Comment:__ Plot pairwise relationships of our dataset."
   ]
  },
  {
   "cell_type": "markdown",
   "id": "76b511a1",
   "metadata": {},
   "source": [
    "## <a id='section21'>2.1 Data Cleaning</a>"
   ]
  },
  {
   "cell_type": "code",
   "execution_count": 17,
   "id": "2c652086",
   "metadata": {},
   "outputs": [
    {
     "data": {
      "text/plain": [
       "Survey Year                                3\n",
       "Timestamp                               6891\n",
       "SalaryUSD                               1240\n",
       "Country                                   85\n",
       "PostalCode                              2304\n",
       "PrimaryDatabase                           15\n",
       "YearsWithThisDatabase                     42\n",
       "OtherDatabases                          1339\n",
       "EmploymentStatus                           5\n",
       "JobTitle                                  23\n",
       "ManageStaff                                2\n",
       "YearsWithThisTypeOfJob                    41\n",
       "HowManyCompanies                           7\n",
       "OtherPeopleOnYourTeam                      7\n",
       "CompanyEmployeesOverall                    7\n",
       "DatabaseServers                          250\n",
       "Education                                  5\n",
       "EducationIsComputerRelated                 2\n",
       "Certifications                             3\n",
       "HoursWorkedPerWeek                        57\n",
       "TelecommuteDaysPerWeek                     6\n",
       "PopulationOfLargestCityWithin20Miles       6\n",
       "EmploymentSector                           7\n",
       "LookingForAnotherJob                       3\n",
       "CareerPlansThisYear                        6\n",
       "Gender                                    24\n",
       "OtherJobDuties                           555\n",
       "KindsOfTasksPerformed                    211\n",
       "Counter                                    1\n",
       "dtype: int64"
      ]
     },
     "execution_count": 17,
     "metadata": {},
     "output_type": "execute_result"
    }
   ],
   "source": [
    "# unique values in dataset\n",
    "data.nunique()"
   ]
  },
  {
   "cell_type": "markdown",
   "id": "adc1c96b",
   "metadata": {},
   "source": [
    "__Comment:___ Checking for values of other columns."
   ]
  },
  {
   "cell_type": "code",
   "execution_count": 18,
   "id": "17c31211",
   "metadata": {},
   "outputs": [
    {
     "data": {
      "text/plain": [
       "Not Asked       6011\n",
       "1000 or more     379\n",
       "100-249          126\n",
       "6-99             123\n",
       "500-999          119\n",
       "250-499          117\n",
       "1-5               18\n",
       "Name: CompanyEmployeesOverall, dtype: int64"
      ]
     },
     "execution_count": 18,
     "metadata": {},
     "output_type": "execute_result"
    }
   ],
   "source": [
    "data[\"CompanyEmployeesOverall\"].value_counts()"
   ]
  },
  {
   "cell_type": "code",
   "execution_count": 19,
   "id": "c0493866",
   "metadata": {},
   "outputs": [
    {
     "data": {
      "text/plain": [
       "Not Asked               6011\n",
       "1M+ (metropolis)         330\n",
       "300K-1M (large city)     283\n",
       "100K-299K (city)         164\n",
       "20K-99K (large town)      84\n",
       "<= 20,000 (town)          21\n",
       "Name: PopulationOfLargestCityWithin20Miles, dtype: int64"
      ]
     },
     "execution_count": 19,
     "metadata": {},
     "output_type": "execute_result"
    }
   ],
   "source": [
    "data[\"PopulationOfLargestCityWithin20Miles\"].value_counts()"
   ]
  },
  {
   "cell_type": "code",
   "execution_count": 20,
   "id": "fb47be65",
   "metadata": {},
   "outputs": [
    {
     "data": {
      "text/plain": [
       "Not Asked                                                             6011\n",
       "1 (this is the only company where I've had this kind of position)      300\n",
       "2 (I worked at another similar position elsewhere before this one)     272\n",
       "3                                                                      158\n",
       "4                                                                       68\n",
       "6 or more                                                               46\n",
       "5                                                                       38\n",
       "Name: HowManyCompanies, dtype: int64"
      ]
     },
     "execution_count": 20,
     "metadata": {},
     "output_type": "execute_result"
    }
   ],
   "source": [
    "data[\"HowManyCompanies\"].value_counts()"
   ]
  },
  {
   "cell_type": "markdown",
   "id": "dafbfdae",
   "metadata": {},
   "source": [
    "__Comment:__ We decided to drop *'Timestamp', 'PostalCode', 'Counter', 'CompanyEmployeesOverall', 'PopulationOfLargestCityWithin20Miles', 'HowManyCompanies'* columns.<br>\n",
    "_'Timestamp'_ has all unique values. <br>\n",
    "_'Counter'_ has only one unique value, which is 1.<br>\n",
    "_'PopulationOfLargestCityWithin20Miles', 'CompanyEmployeesOverall', 'HowManyCompanies'_ have too many 'Not Asked' values.<br>\n",
    "_'PostalCode'_ we assume that this column has no correlation with the salary."
   ]
  },
  {
   "cell_type": "code",
   "execution_count": 21,
   "id": "8e8d455b",
   "metadata": {},
   "outputs": [
    {
     "data": {
      "text/plain": [
       "(6893, 23)"
      ]
     },
     "execution_count": 21,
     "metadata": {},
     "output_type": "execute_result"
    }
   ],
   "source": [
    "data = data.drop(['Timestamp', 'PostalCode', 'Counter', 'CompanyEmployeesOverall', 'PopulationOfLargestCityWithin20Miles', 'HowManyCompanies'], axis = 1)\n",
    "data.shape"
   ]
  },
  {
   "cell_type": "markdown",
   "id": "790d5bd5",
   "metadata": {},
   "source": [
    "__Comment:__ Dropping duplicated rows in the dataset."
   ]
  },
  {
   "cell_type": "code",
   "execution_count": 22,
   "id": "64d7797c",
   "metadata": {},
   "outputs": [
    {
     "data": {
      "text/html": [
       "<div>\n",
       "<style scoped>\n",
       "    .dataframe tbody tr th:only-of-type {\n",
       "        vertical-align: middle;\n",
       "    }\n",
       "\n",
       "    .dataframe tbody tr th {\n",
       "        vertical-align: top;\n",
       "    }\n",
       "\n",
       "    .dataframe thead th {\n",
       "        text-align: right;\n",
       "    }\n",
       "</style>\n",
       "<table border=\"1\" class=\"dataframe\">\n",
       "  <thead>\n",
       "    <tr style=\"text-align: right;\">\n",
       "      <th></th>\n",
       "      <th>Survey Year</th>\n",
       "      <th>SalaryUSD</th>\n",
       "      <th>Country</th>\n",
       "      <th>PrimaryDatabase</th>\n",
       "      <th>YearsWithThisDatabase</th>\n",
       "      <th>OtherDatabases</th>\n",
       "      <th>EmploymentStatus</th>\n",
       "      <th>JobTitle</th>\n",
       "      <th>ManageStaff</th>\n",
       "      <th>YearsWithThisTypeOfJob</th>\n",
       "      <th>...</th>\n",
       "      <th>EducationIsComputerRelated</th>\n",
       "      <th>Certifications</th>\n",
       "      <th>HoursWorkedPerWeek</th>\n",
       "      <th>TelecommuteDaysPerWeek</th>\n",
       "      <th>EmploymentSector</th>\n",
       "      <th>LookingForAnotherJob</th>\n",
       "      <th>CareerPlansThisYear</th>\n",
       "      <th>Gender</th>\n",
       "      <th>OtherJobDuties</th>\n",
       "      <th>KindsOfTasksPerformed</th>\n",
       "    </tr>\n",
       "  </thead>\n",
       "  <tbody>\n",
       "    <tr>\n",
       "      <th>0</th>\n",
       "      <td>2017</td>\n",
       "      <td>200000.0</td>\n",
       "      <td>United States</td>\n",
       "      <td>Microsoft SQL Server</td>\n",
       "      <td>10</td>\n",
       "      <td>MySQL/MariaDB</td>\n",
       "      <td>Full time employee</td>\n",
       "      <td>DBA</td>\n",
       "      <td>No</td>\n",
       "      <td>5</td>\n",
       "      <td>...</td>\n",
       "      <td>No</td>\n",
       "      <td>Yes, and they're currently valid</td>\n",
       "      <td>45</td>\n",
       "      <td>1</td>\n",
       "      <td>Private business</td>\n",
       "      <td>Yes, but only passively (just curious)</td>\n",
       "      <td>Not Asked</td>\n",
       "      <td>Not Asked</td>\n",
       "      <td>Not Asked</td>\n",
       "      <td>Not Asked</td>\n",
       "    </tr>\n",
       "    <tr>\n",
       "      <th>1</th>\n",
       "      <td>2017</td>\n",
       "      <td>61515.0</td>\n",
       "      <td>United Kingdom</td>\n",
       "      <td>Microsoft SQL Server</td>\n",
       "      <td>15</td>\n",
       "      <td>Oracle, PostgreSQL</td>\n",
       "      <td>Full time employee</td>\n",
       "      <td>DBA</td>\n",
       "      <td>No</td>\n",
       "      <td>3</td>\n",
       "      <td>...</td>\n",
       "      <td>NaN</td>\n",
       "      <td>No, I never have</td>\n",
       "      <td>35</td>\n",
       "      <td>2</td>\n",
       "      <td>Private business</td>\n",
       "      <td>No</td>\n",
       "      <td>Not Asked</td>\n",
       "      <td>Not Asked</td>\n",
       "      <td>Not Asked</td>\n",
       "      <td>Not Asked</td>\n",
       "    </tr>\n",
       "    <tr>\n",
       "      <th>2</th>\n",
       "      <td>2017</td>\n",
       "      <td>95000.0</td>\n",
       "      <td>Germany</td>\n",
       "      <td>Microsoft SQL Server</td>\n",
       "      <td>5</td>\n",
       "      <td>Oracle, MySQL/MariaDB, Informix</td>\n",
       "      <td>Full time employee</td>\n",
       "      <td>Other</td>\n",
       "      <td>Yes</td>\n",
       "      <td>25</td>\n",
       "      <td>...</td>\n",
       "      <td>Yes</td>\n",
       "      <td>Yes, but they expired</td>\n",
       "      <td>45</td>\n",
       "      <td>None, or less than 1 day per week</td>\n",
       "      <td>Private business</td>\n",
       "      <td>Yes, but only passively (just curious)</td>\n",
       "      <td>Not Asked</td>\n",
       "      <td>Not Asked</td>\n",
       "      <td>Not Asked</td>\n",
       "      <td>Not Asked</td>\n",
       "    </tr>\n",
       "    <tr>\n",
       "      <th>3</th>\n",
       "      <td>2017</td>\n",
       "      <td>56000.0</td>\n",
       "      <td>United Kingdom</td>\n",
       "      <td>Microsoft SQL Server</td>\n",
       "      <td>6</td>\n",
       "      <td>NaN</td>\n",
       "      <td>Full time employee</td>\n",
       "      <td>DBA</td>\n",
       "      <td>No</td>\n",
       "      <td>2</td>\n",
       "      <td>...</td>\n",
       "      <td>No</td>\n",
       "      <td>No, I never have</td>\n",
       "      <td>40</td>\n",
       "      <td>1</td>\n",
       "      <td>Private business</td>\n",
       "      <td>Yes, but only passively (just curious)</td>\n",
       "      <td>Not Asked</td>\n",
       "      <td>Not Asked</td>\n",
       "      <td>Not Asked</td>\n",
       "      <td>Not Asked</td>\n",
       "    </tr>\n",
       "    <tr>\n",
       "      <th>4</th>\n",
       "      <td>2017</td>\n",
       "      <td>35000.0</td>\n",
       "      <td>France</td>\n",
       "      <td>Microsoft SQL Server</td>\n",
       "      <td>10</td>\n",
       "      <td>Oracle</td>\n",
       "      <td>Full time employee of a consulting/contracting...</td>\n",
       "      <td>DBA</td>\n",
       "      <td>No</td>\n",
       "      <td>10</td>\n",
       "      <td>...</td>\n",
       "      <td>Yes</td>\n",
       "      <td>Yes, but they expired</td>\n",
       "      <td>40</td>\n",
       "      <td>None, or less than 1 day per week</td>\n",
       "      <td>Private business</td>\n",
       "      <td>Yes, but only passively (just curious)</td>\n",
       "      <td>Not Asked</td>\n",
       "      <td>Not Asked</td>\n",
       "      <td>Not Asked</td>\n",
       "      <td>Not Asked</td>\n",
       "    </tr>\n",
       "    <tr>\n",
       "      <th>...</th>\n",
       "      <td>...</td>\n",
       "      <td>...</td>\n",
       "      <td>...</td>\n",
       "      <td>...</td>\n",
       "      <td>...</td>\n",
       "      <td>...</td>\n",
       "      <td>...</td>\n",
       "      <td>...</td>\n",
       "      <td>...</td>\n",
       "      <td>...</td>\n",
       "      <td>...</td>\n",
       "      <td>...</td>\n",
       "      <td>...</td>\n",
       "      <td>...</td>\n",
       "      <td>...</td>\n",
       "      <td>...</td>\n",
       "      <td>...</td>\n",
       "      <td>...</td>\n",
       "      <td>...</td>\n",
       "      <td>...</td>\n",
       "      <td>...</td>\n",
       "    </tr>\n",
       "    <tr>\n",
       "      <th>6888</th>\n",
       "      <td>2019</td>\n",
       "      <td>32000.0</td>\n",
       "      <td>Hungary</td>\n",
       "      <td>Microsoft SQL Server</td>\n",
       "      <td>3</td>\n",
       "      <td>Azure SQL DB, Amazon RDS (any flavor)</td>\n",
       "      <td>Full time employee</td>\n",
       "      <td>DBA (General - splits time evenly between writ...</td>\n",
       "      <td>No</td>\n",
       "      <td>3</td>\n",
       "      <td>...</td>\n",
       "      <td>Yes</td>\n",
       "      <td>Yes, and they're currently valid</td>\n",
       "      <td>40</td>\n",
       "      <td>2</td>\n",
       "      <td>Private business</td>\n",
       "      <td>No</td>\n",
       "      <td>Stay with the same employer, same role</td>\n",
       "      <td>Male</td>\n",
       "      <td>NaN</td>\n",
       "      <td>On-call as part of a rotation, Projects</td>\n",
       "    </tr>\n",
       "    <tr>\n",
       "      <th>6889</th>\n",
       "      <td>2019</td>\n",
       "      <td>32000.0</td>\n",
       "      <td>Hungary</td>\n",
       "      <td>Microsoft SQL Server</td>\n",
       "      <td>3</td>\n",
       "      <td>Azure SQL DB, Amazon RDS (any flavor)</td>\n",
       "      <td>Full time employee</td>\n",
       "      <td>DBA (General - splits time evenly between writ...</td>\n",
       "      <td>No</td>\n",
       "      <td>3</td>\n",
       "      <td>...</td>\n",
       "      <td>Yes</td>\n",
       "      <td>Yes, and they're currently valid</td>\n",
       "      <td>40</td>\n",
       "      <td>2</td>\n",
       "      <td>Private business</td>\n",
       "      <td>No</td>\n",
       "      <td>Stay with the same employer, same role</td>\n",
       "      <td>Male</td>\n",
       "      <td>NaN</td>\n",
       "      <td>Projects</td>\n",
       "    </tr>\n",
       "    <tr>\n",
       "      <th>6890</th>\n",
       "      <td>2019</td>\n",
       "      <td>40000.0</td>\n",
       "      <td>Portugal</td>\n",
       "      <td>Microsoft SQL Server</td>\n",
       "      <td>10</td>\n",
       "      <td>NaN</td>\n",
       "      <td>Full time employee of a consulting/contracting...</td>\n",
       "      <td>Developer: App code (C#, JS, etc)</td>\n",
       "      <td>Yes</td>\n",
       "      <td>19</td>\n",
       "      <td>...</td>\n",
       "      <td>Yes</td>\n",
       "      <td>Yes, and they're currently valid</td>\n",
       "      <td>40</td>\n",
       "      <td>None, or less than 1 day per week</td>\n",
       "      <td>Private business</td>\n",
       "      <td>Yes, but only passively (just curious)</td>\n",
       "      <td>Stay with the same employer, same role</td>\n",
       "      <td>Male</td>\n",
       "      <td>DBA (Development Focus - tunes queries, indexe...</td>\n",
       "      <td>Manual tasks, Meetings &amp; management, On-call a...</td>\n",
       "    </tr>\n",
       "    <tr>\n",
       "      <th>6891</th>\n",
       "      <td>2019</td>\n",
       "      <td>130000.0</td>\n",
       "      <td>United States</td>\n",
       "      <td>Microsoft SQL Server</td>\n",
       "      <td>20</td>\n",
       "      <td>NaN</td>\n",
       "      <td>Full time employee of a consulting/contracting...</td>\n",
       "      <td>DBA (General - splits time evenly between writ...</td>\n",
       "      <td>No</td>\n",
       "      <td>17</td>\n",
       "      <td>...</td>\n",
       "      <td>Yes</td>\n",
       "      <td>Yes, but they expired</td>\n",
       "      <td>42</td>\n",
       "      <td>None, or less than 1 day per week</td>\n",
       "      <td>Private business</td>\n",
       "      <td>Yes, actively looking for something else</td>\n",
       "      <td>Prefer not to say</td>\n",
       "      <td>Female</td>\n",
       "      <td>NaN</td>\n",
       "      <td>Build scripts &amp; automation tools, Projects, R&amp;D</td>\n",
       "    </tr>\n",
       "    <tr>\n",
       "      <th>6892</th>\n",
       "      <td>2019</td>\n",
       "      <td>84500.0</td>\n",
       "      <td>Canada</td>\n",
       "      <td>Microsoft SQL Server</td>\n",
       "      <td>19</td>\n",
       "      <td>NaN</td>\n",
       "      <td>Full time employee</td>\n",
       "      <td>Architect</td>\n",
       "      <td>No</td>\n",
       "      <td>19</td>\n",
       "      <td>...</td>\n",
       "      <td>Yes</td>\n",
       "      <td>No, I never have</td>\n",
       "      <td>40</td>\n",
       "      <td>None, or less than 1 day per week</td>\n",
       "      <td>Private business</td>\n",
       "      <td>Yes, but only passively (just curious)</td>\n",
       "      <td>Prefer not to say</td>\n",
       "      <td>Male</td>\n",
       "      <td>DBA (Development Focus - tunes queries, indexe...</td>\n",
       "      <td>NaN</td>\n",
       "    </tr>\n",
       "  </tbody>\n",
       "</table>\n",
       "<p>6881 rows × 23 columns</p>\n",
       "</div>"
      ],
      "text/plain": [
       "      Survey Year  SalaryUSD         Country       PrimaryDatabase  \\\n",
       "0            2017   200000.0   United States  Microsoft SQL Server   \n",
       "1            2017    61515.0  United Kingdom  Microsoft SQL Server   \n",
       "2            2017    95000.0         Germany  Microsoft SQL Server   \n",
       "3            2017    56000.0  United Kingdom  Microsoft SQL Server   \n",
       "4            2017    35000.0          France  Microsoft SQL Server   \n",
       "...           ...        ...             ...                   ...   \n",
       "6888         2019    32000.0         Hungary  Microsoft SQL Server   \n",
       "6889         2019    32000.0         Hungary  Microsoft SQL Server   \n",
       "6890         2019    40000.0        Portugal  Microsoft SQL Server   \n",
       "6891         2019   130000.0   United States  Microsoft SQL Server   \n",
       "6892         2019    84500.0          Canada  Microsoft SQL Server   \n",
       "\n",
       "      YearsWithThisDatabase                         OtherDatabases  \\\n",
       "0                        10                          MySQL/MariaDB   \n",
       "1                        15                     Oracle, PostgreSQL   \n",
       "2                         5        Oracle, MySQL/MariaDB, Informix   \n",
       "3                         6                                    NaN   \n",
       "4                        10                                 Oracle   \n",
       "...                     ...                                    ...   \n",
       "6888                      3  Azure SQL DB, Amazon RDS (any flavor)   \n",
       "6889                      3  Azure SQL DB, Amazon RDS (any flavor)   \n",
       "6890                     10                                    NaN   \n",
       "6891                     20                                    NaN   \n",
       "6892                     19                                    NaN   \n",
       "\n",
       "                                       EmploymentStatus  \\\n",
       "0                                    Full time employee   \n",
       "1                                    Full time employee   \n",
       "2                                    Full time employee   \n",
       "3                                    Full time employee   \n",
       "4     Full time employee of a consulting/contracting...   \n",
       "...                                                 ...   \n",
       "6888                                 Full time employee   \n",
       "6889                                 Full time employee   \n",
       "6890  Full time employee of a consulting/contracting...   \n",
       "6891  Full time employee of a consulting/contracting...   \n",
       "6892                                 Full time employee   \n",
       "\n",
       "                                               JobTitle ManageStaff  \\\n",
       "0                                                   DBA          No   \n",
       "1                                                   DBA          No   \n",
       "2                                                 Other         Yes   \n",
       "3                                                   DBA          No   \n",
       "4                                                   DBA          No   \n",
       "...                                                 ...         ...   \n",
       "6888  DBA (General - splits time evenly between writ...          No   \n",
       "6889  DBA (General - splits time evenly between writ...          No   \n",
       "6890                  Developer: App code (C#, JS, etc)         Yes   \n",
       "6891  DBA (General - splits time evenly between writ...          No   \n",
       "6892                                          Architect          No   \n",
       "\n",
       "      YearsWithThisTypeOfJob  ... EducationIsComputerRelated  \\\n",
       "0                          5  ...                         No   \n",
       "1                          3  ...                        NaN   \n",
       "2                         25  ...                        Yes   \n",
       "3                          2  ...                         No   \n",
       "4                         10  ...                        Yes   \n",
       "...                      ...  ...                        ...   \n",
       "6888                       3  ...                        Yes   \n",
       "6889                       3  ...                        Yes   \n",
       "6890                      19  ...                        Yes   \n",
       "6891                      17  ...                        Yes   \n",
       "6892                      19  ...                        Yes   \n",
       "\n",
       "                        Certifications HoursWorkedPerWeek  \\\n",
       "0     Yes, and they're currently valid                 45   \n",
       "1                     No, I never have                 35   \n",
       "2                Yes, but they expired                 45   \n",
       "3                     No, I never have                 40   \n",
       "4                Yes, but they expired                 40   \n",
       "...                                ...                ...   \n",
       "6888  Yes, and they're currently valid                 40   \n",
       "6889  Yes, and they're currently valid                 40   \n",
       "6890  Yes, and they're currently valid                 40   \n",
       "6891             Yes, but they expired                 42   \n",
       "6892                  No, I never have                 40   \n",
       "\n",
       "                 TelecommuteDaysPerWeek  EmploymentSector  \\\n",
       "0                                     1  Private business   \n",
       "1                                     2  Private business   \n",
       "2     None, or less than 1 day per week  Private business   \n",
       "3                                     1  Private business   \n",
       "4     None, or less than 1 day per week  Private business   \n",
       "...                                 ...               ...   \n",
       "6888                                  2  Private business   \n",
       "6889                                  2  Private business   \n",
       "6890  None, or less than 1 day per week  Private business   \n",
       "6891  None, or less than 1 day per week  Private business   \n",
       "6892  None, or less than 1 day per week  Private business   \n",
       "\n",
       "                          LookingForAnotherJob  \\\n",
       "0       Yes, but only passively (just curious)   \n",
       "1                                           No   \n",
       "2       Yes, but only passively (just curious)   \n",
       "3       Yes, but only passively (just curious)   \n",
       "4       Yes, but only passively (just curious)   \n",
       "...                                        ...   \n",
       "6888                                        No   \n",
       "6889                                        No   \n",
       "6890    Yes, but only passively (just curious)   \n",
       "6891  Yes, actively looking for something else   \n",
       "6892    Yes, but only passively (just curious)   \n",
       "\n",
       "                         CareerPlansThisYear     Gender  \\\n",
       "0                                  Not Asked  Not Asked   \n",
       "1                                  Not Asked  Not Asked   \n",
       "2                                  Not Asked  Not Asked   \n",
       "3                                  Not Asked  Not Asked   \n",
       "4                                  Not Asked  Not Asked   \n",
       "...                                      ...        ...   \n",
       "6888  Stay with the same employer, same role       Male   \n",
       "6889  Stay with the same employer, same role       Male   \n",
       "6890  Stay with the same employer, same role       Male   \n",
       "6891                       Prefer not to say     Female   \n",
       "6892                       Prefer not to say       Male   \n",
       "\n",
       "                                         OtherJobDuties  \\\n",
       "0                                             Not Asked   \n",
       "1                                             Not Asked   \n",
       "2                                             Not Asked   \n",
       "3                                             Not Asked   \n",
       "4                                             Not Asked   \n",
       "...                                                 ...   \n",
       "6888                                                NaN   \n",
       "6889                                                NaN   \n",
       "6890  DBA (Development Focus - tunes queries, indexe...   \n",
       "6891                                                NaN   \n",
       "6892  DBA (Development Focus - tunes queries, indexe...   \n",
       "\n",
       "                                  KindsOfTasksPerformed  \n",
       "0                                             Not Asked  \n",
       "1                                             Not Asked  \n",
       "2                                             Not Asked  \n",
       "3                                             Not Asked  \n",
       "4                                             Not Asked  \n",
       "...                                                 ...  \n",
       "6888            On-call as part of a rotation, Projects  \n",
       "6889                                           Projects  \n",
       "6890  Manual tasks, Meetings & management, On-call a...  \n",
       "6891    Build scripts & automation tools, Projects, R&D  \n",
       "6892                                                NaN  \n",
       "\n",
       "[6881 rows x 23 columns]"
      ]
     },
     "execution_count": 22,
     "metadata": {},
     "output_type": "execute_result"
    }
   ],
   "source": [
    "data.drop_duplicates()"
   ]
  },
  {
   "cell_type": "markdown",
   "id": "ed3a357e",
   "metadata": {},
   "source": [
    "## <a id='section22'>2.2 Dealing with Outliers</a>"
   ]
  },
  {
   "cell_type": "code",
   "execution_count": 23,
   "id": "8ccbed50",
   "metadata": {},
   "outputs": [
    {
     "data": {
      "image/png": "[encoded data removed]",
      "text/plain": [
       "<Figure size 1080x360 with 1 Axes>"
      ]
     },
     "metadata": {
      "needs_background": "light"
     },
     "output_type": "display_data"
    }
   ],
   "source": [
    "fig, ((axes1)) = plt.subplots(1,1, figsize=(15,5))\n",
    "sns.histplot(data = data, x = 'SalaryUSD', ax = axes1)\n",
    "axes1.set_title('Frequency of salaries', fontsize=15)\n",
    "plt.show()"
   ]
  },
  {
   "cell_type": "markdown",
   "id": "0e19d948",
   "metadata": {},
   "source": [
    "__Comment:__ This is the illustration of our 'SalaryUSD' column. As we can see, the bar graph is skewed to the left.\n",
    "Also we can say that there are many outliers."
   ]
  },
  {
   "cell_type": "code",
   "execution_count": 24,
   "id": "999142ee",
   "metadata": {},
   "outputs": [],
   "source": [
    "def quartiles(column):\n",
    " sorted(column)\n",
    " Q1,Q3 = np.percentile(column , [25,75])\n",
    " IQR = Q3-Q1\n",
    " lower_boundary = Q1-(1.5*IQR)\n",
    " upper_boundary = Q3+(1.5*IQR)\n",
    " return lower_boundary,upper_boundary"
   ]
  },
  {
   "cell_type": "markdown",
   "id": "2a5e7e44",
   "metadata": {},
   "source": [
    "__Comment:__ Function for detecting lower and upper boundaries of quartiles."
   ]
  },
  {
   "cell_type": "code",
   "execution_count": 25,
   "id": "21ae6207",
   "metadata": {},
   "outputs": [],
   "source": [
    "lower,upper = quartiles(data['SalaryUSD'])\n",
    "data = data.drop(data[(data.SalaryUSD < lower) | (data.SalaryUSD > upper)].index)"
   ]
  },
  {
   "cell_type": "markdown",
   "id": "d8b19cf5",
   "metadata": {},
   "source": [
    "__Comment:__ Dropping data that are less than the lower bound, and greater than the upper boundary, in other words, outliers."
   ]
  },
  {
   "cell_type": "code",
   "execution_count": 26,
   "id": "253240e2",
   "metadata": {},
   "outputs": [
    {
     "data": {
      "text/plain": [
       "(6767, 23)"
      ]
     },
     "execution_count": 26,
     "metadata": {},
     "output_type": "execute_result"
    }
   ],
   "source": [
    "data.shape"
   ]
  },
  {
   "cell_type": "code",
   "execution_count": 27,
   "id": "eccfeba8",
   "metadata": {},
   "outputs": [
    {
     "data": {
      "image/png": "[encoded data removed]",
      "text/plain": [
       "<Figure size 1080x360 with 1 Axes>"
      ]
     },
     "metadata": {
      "needs_background": "light"
     },
     "output_type": "display_data"
    }
   ],
   "source": [
    "fig, ((axes1)) = plt.subplots(1,1, figsize=(15,5))\n",
    "sns.histplot(data = data, x = 'SalaryUSD', ax = axes1)\n",
    "axes1.set_title('Frequency of salaries', fontsize=15)\n",
    "plt.show()"
   ]
  },
  {
   "cell_type": "markdown",
   "id": "e4543c4a",
   "metadata": {},
   "source": [
    "__Comment:__ After dropping all of our outliers, our salary distribution looks like a normal distribution now."
   ]
  },
  {
   "cell_type": "markdown",
   "id": "a43c5c31",
   "metadata": {},
   "source": [
    "## <a id='section23'>2.3 Feature Engineering</a>"
   ]
  },
  {
   "cell_type": "markdown",
   "id": "df5972d0",
   "metadata": {},
   "source": [
    "__Comment:__ Splitting 'SalaryUSD' into categories. In our case, we have splitted into 15 categories."
   ]
  },
  {
   "cell_type": "code",
   "execution_count": 28,
   "id": "cb06f332",
   "metadata": {},
   "outputs": [],
   "source": [
    "bins = np.linspace(min(data['SalaryUSD']), max(data['SalaryUSD']),16)\n",
    "groupNames = np.arange(1,16)\n",
    "data['Salary'] = pd.cut(data['SalaryUSD'], bins, labels = groupNames, include_lowest = True)"
   ]
  },
  {
   "cell_type": "code",
   "execution_count": 29,
   "id": "8f6cb5ab",
   "metadata": {},
   "outputs": [
    {
     "data": {
      "text/plain": [
       "8     1007\n",
       "6      892\n",
       "7      827\n",
       "9      780\n",
       "10     719\n",
       "5      645\n",
       "4      452\n",
       "11     414\n",
       "12     258\n",
       "3      257\n",
       "2      160\n",
       "13     122\n",
       "1      119\n",
       "14      76\n",
       "15      39\n",
       "Name: Salary, dtype: int64"
      ]
     },
     "execution_count": 29,
     "metadata": {},
     "output_type": "execute_result"
    }
   ],
   "source": [
    "data.Salary.value_counts()"
   ]
  },
  {
   "cell_type": "markdown",
   "id": "798c7aea",
   "metadata": {},
   "source": [
    "__Comment:__ factorizing all of our categorical variables. We wrote a function that will loop through a list."
   ]
  },
  {
   "cell_type": "code",
   "execution_count": 30,
   "id": "8f12d947",
   "metadata": {},
   "outputs": [],
   "source": [
    "l1 = ['Country','PrimaryDatabase','EmploymentStatus','JobTitle','ManageStaff','TelecommuteDaysPerWeek','EmploymentSector','LookingForAnotherJob','OtherPeopleOnYourTeam','Education','Certifications','TelecommuteDaysPerWeek', 'EmploymentSector', 'CareerPlansThisYear']\n",
    "def fctrz() :\n",
    "    for i in l1:\n",
    "        data[i]=data[i].factorize()[0]\n",
    "\n",
    "fctrz()"
   ]
  },
  {
   "cell_type": "markdown",
   "id": "f03c1c65",
   "metadata": {},
   "source": [
    "__Comment:__ See the changes."
   ]
  },
  {
   "cell_type": "code",
   "execution_count": 31,
   "id": "58fdcf11",
   "metadata": {},
   "outputs": [
    {
     "data": {
      "text/html": [
       "<div>\n",
       "<style scoped>\n",
       "    .dataframe tbody tr th:only-of-type {\n",
       "        vertical-align: middle;\n",
       "    }\n",
       "\n",
       "    .dataframe tbody tr th {\n",
       "        vertical-align: top;\n",
       "    }\n",
       "\n",
       "    .dataframe thead th {\n",
       "        text-align: right;\n",
       "    }\n",
       "</style>\n",
       "<table border=\"1\" class=\"dataframe\">\n",
       "  <thead>\n",
       "    <tr style=\"text-align: right;\">\n",
       "      <th></th>\n",
       "      <th>Survey Year</th>\n",
       "      <th>SalaryUSD</th>\n",
       "      <th>Country</th>\n",
       "      <th>PrimaryDatabase</th>\n",
       "      <th>YearsWithThisDatabase</th>\n",
       "      <th>OtherDatabases</th>\n",
       "      <th>EmploymentStatus</th>\n",
       "      <th>JobTitle</th>\n",
       "      <th>ManageStaff</th>\n",
       "      <th>YearsWithThisTypeOfJob</th>\n",
       "      <th>...</th>\n",
       "      <th>Certifications</th>\n",
       "      <th>HoursWorkedPerWeek</th>\n",
       "      <th>TelecommuteDaysPerWeek</th>\n",
       "      <th>EmploymentSector</th>\n",
       "      <th>LookingForAnotherJob</th>\n",
       "      <th>CareerPlansThisYear</th>\n",
       "      <th>Gender</th>\n",
       "      <th>OtherJobDuties</th>\n",
       "      <th>KindsOfTasksPerformed</th>\n",
       "      <th>Salary</th>\n",
       "    </tr>\n",
       "  </thead>\n",
       "  <tbody>\n",
       "    <tr>\n",
       "      <th>1</th>\n",
       "      <td>2017</td>\n",
       "      <td>61515.0</td>\n",
       "      <td>0</td>\n",
       "      <td>0</td>\n",
       "      <td>15</td>\n",
       "      <td>Oracle, PostgreSQL</td>\n",
       "      <td>0</td>\n",
       "      <td>0</td>\n",
       "      <td>0</td>\n",
       "      <td>3</td>\n",
       "      <td>...</td>\n",
       "      <td>0</td>\n",
       "      <td>35</td>\n",
       "      <td>0</td>\n",
       "      <td>0</td>\n",
       "      <td>0</td>\n",
       "      <td>0</td>\n",
       "      <td>Not Asked</td>\n",
       "      <td>Not Asked</td>\n",
       "      <td>Not Asked</td>\n",
       "      <td>5</td>\n",
       "    </tr>\n",
       "    <tr>\n",
       "      <th>2</th>\n",
       "      <td>2017</td>\n",
       "      <td>95000.0</td>\n",
       "      <td>1</td>\n",
       "      <td>0</td>\n",
       "      <td>5</td>\n",
       "      <td>Oracle, MySQL/MariaDB, Informix</td>\n",
       "      <td>0</td>\n",
       "      <td>1</td>\n",
       "      <td>1</td>\n",
       "      <td>25</td>\n",
       "      <td>...</td>\n",
       "      <td>1</td>\n",
       "      <td>45</td>\n",
       "      <td>1</td>\n",
       "      <td>0</td>\n",
       "      <td>1</td>\n",
       "      <td>0</td>\n",
       "      <td>Not Asked</td>\n",
       "      <td>Not Asked</td>\n",
       "      <td>Not Asked</td>\n",
       "      <td>8</td>\n",
       "    </tr>\n",
       "    <tr>\n",
       "      <th>3</th>\n",
       "      <td>2017</td>\n",
       "      <td>56000.0</td>\n",
       "      <td>0</td>\n",
       "      <td>0</td>\n",
       "      <td>6</td>\n",
       "      <td>NaN</td>\n",
       "      <td>0</td>\n",
       "      <td>0</td>\n",
       "      <td>0</td>\n",
       "      <td>2</td>\n",
       "      <td>...</td>\n",
       "      <td>0</td>\n",
       "      <td>40</td>\n",
       "      <td>2</td>\n",
       "      <td>0</td>\n",
       "      <td>1</td>\n",
       "      <td>0</td>\n",
       "      <td>Not Asked</td>\n",
       "      <td>Not Asked</td>\n",
       "      <td>Not Asked</td>\n",
       "      <td>5</td>\n",
       "    </tr>\n",
       "    <tr>\n",
       "      <th>4</th>\n",
       "      <td>2017</td>\n",
       "      <td>35000.0</td>\n",
       "      <td>2</td>\n",
       "      <td>0</td>\n",
       "      <td>10</td>\n",
       "      <td>Oracle</td>\n",
       "      <td>1</td>\n",
       "      <td>0</td>\n",
       "      <td>0</td>\n",
       "      <td>10</td>\n",
       "      <td>...</td>\n",
       "      <td>1</td>\n",
       "      <td>40</td>\n",
       "      <td>1</td>\n",
       "      <td>0</td>\n",
       "      <td>1</td>\n",
       "      <td>0</td>\n",
       "      <td>Not Asked</td>\n",
       "      <td>Not Asked</td>\n",
       "      <td>Not Asked</td>\n",
       "      <td>3</td>\n",
       "    </tr>\n",
       "    <tr>\n",
       "      <th>6</th>\n",
       "      <td>2017</td>\n",
       "      <td>75000.0</td>\n",
       "      <td>1</td>\n",
       "      <td>0</td>\n",
       "      <td>16</td>\n",
       "      <td>Oracle</td>\n",
       "      <td>0</td>\n",
       "      <td>0</td>\n",
       "      <td>0</td>\n",
       "      <td>11</td>\n",
       "      <td>...</td>\n",
       "      <td>2</td>\n",
       "      <td>40</td>\n",
       "      <td>1</td>\n",
       "      <td>0</td>\n",
       "      <td>1</td>\n",
       "      <td>0</td>\n",
       "      <td>Not Asked</td>\n",
       "      <td>Not Asked</td>\n",
       "      <td>Not Asked</td>\n",
       "      <td>6</td>\n",
       "    </tr>\n",
       "  </tbody>\n",
       "</table>\n",
       "<p>5 rows × 24 columns</p>\n",
       "</div>"
      ],
      "text/plain": [
       "   Survey Year  SalaryUSD  Country  PrimaryDatabase  YearsWithThisDatabase  \\\n",
       "1         2017    61515.0        0                0                     15   \n",
       "2         2017    95000.0        1                0                      5   \n",
       "3         2017    56000.0        0                0                      6   \n",
       "4         2017    35000.0        2                0                     10   \n",
       "6         2017    75000.0        1                0                     16   \n",
       "\n",
       "                    OtherDatabases  EmploymentStatus  JobTitle  ManageStaff  \\\n",
       "1               Oracle, PostgreSQL                 0         0            0   \n",
       "2  Oracle, MySQL/MariaDB, Informix                 0         1            1   \n",
       "3                              NaN                 0         0            0   \n",
       "4                           Oracle                 1         0            0   \n",
       "6                           Oracle                 0         0            0   \n",
       "\n",
       "   YearsWithThisTypeOfJob  ...  Certifications  HoursWorkedPerWeek  \\\n",
       "1                       3  ...               0                  35   \n",
       "2                      25  ...               1                  45   \n",
       "3                       2  ...               0                  40   \n",
       "4                      10  ...               1                  40   \n",
       "6                      11  ...               2                  40   \n",
       "\n",
       "   TelecommuteDaysPerWeek EmploymentSector  LookingForAnotherJob  \\\n",
       "1                       0                0                     0   \n",
       "2                       1                0                     1   \n",
       "3                       2                0                     1   \n",
       "4                       1                0                     1   \n",
       "6                       1                0                     1   \n",
       "\n",
       "   CareerPlansThisYear     Gender  OtherJobDuties  KindsOfTasksPerformed  \\\n",
       "1                    0  Not Asked       Not Asked              Not Asked   \n",
       "2                    0  Not Asked       Not Asked              Not Asked   \n",
       "3                    0  Not Asked       Not Asked              Not Asked   \n",
       "4                    0  Not Asked       Not Asked              Not Asked   \n",
       "6                    0  Not Asked       Not Asked              Not Asked   \n",
       "\n",
       "   Salary  \n",
       "1       5  \n",
       "2       8  \n",
       "3       5  \n",
       "4       3  \n",
       "6       6  \n",
       "\n",
       "[5 rows x 24 columns]"
      ]
     },
     "execution_count": 31,
     "metadata": {},
     "output_type": "execute_result"
    }
   ],
   "source": [
    "data.head()"
   ]
  },
  {
   "cell_type": "markdown",
   "id": "da9bc4e7",
   "metadata": {},
   "source": [
    "## <a id='section24'>2.4 Dealing with missing values</a>"
   ]
  },
  {
   "cell_type": "markdown",
   "id": "f31744b9",
   "metadata": {},
   "source": [
    "### <a id='section22'>2.4.1 'OtherDatabases' column</a>"
   ]
  },
  {
   "cell_type": "code",
   "execution_count": 36,
   "id": "4a71d67a",
   "metadata": {},
   "outputs": [
    {
     "data": {
      "text/plain": [
       "Microsoft SQL Server                                                       563\n",
       "Oracle                                                                     265\n",
       "Microsoft Access                                                           240\n",
       "Azure SQL DB                                                               194\n",
       "MySQL/MariaDB                                                              178\n",
       "                                                                          ... \n",
       "PostgreSQL, Cassandra, Redshift                                              1\n",
       "Microsoft SQL Server, Oracle, MySQL/MariaDB, Microsoft Access, Informix      1\n",
       "Oracle, SQLite, Azure SQL DB, Amazon RDS (any flavor), Sybase                1\n",
       "MySQL/MariaDB, Microsoft Access, Redis, SQLite, Amazon RDS (any flavor)      1\n",
       "Oracle, Microsoft Access, Sybase SQL Anywhere                                1\n",
       "Name: OtherDatabases, Length: 1304, dtype: int64"
      ]
     },
     "execution_count": 36,
     "metadata": {},
     "output_type": "execute_result"
    }
   ],
   "source": [
    "data.OtherDatabases.value_counts()"
   ]
  },
  {
   "cell_type": "code",
   "execution_count": 37,
   "id": "dbd38c13",
   "metadata": {},
   "outputs": [
    {
     "data": {
      "text/plain": [
       "-1       1357\n",
       " 21       563\n",
       " 2        265\n",
       " 8        240\n",
       " 38       194\n",
       "         ... \n",
       " 825        1\n",
       " 829        1\n",
       " 833        1\n",
       " 837        1\n",
       " 1303       1\n",
       "Name: OtherDatabases, Length: 1305, dtype: int64"
      ]
     },
     "execution_count": 37,
     "metadata": {},
     "output_type": "execute_result"
    }
   ],
   "source": [
    "data['OtherDatabases1'] = data['OtherDatabases'].str.split(',').str.len()\n",
    "data['OtherDatabases'] = data['OtherDatabases'].factorize()[0]\n",
    "data.OtherDatabases.value_counts()"
   ]
  },
  {
   "cell_type": "code",
   "execution_count": 38,
   "id": "04d1afc0",
   "metadata": {},
   "outputs": [
    {
     "data": {
      "text/plain": [
       "2.0     2701\n",
       "1.0     1750\n",
       "3.0     1161\n",
       "4.0      594\n",
       "5.0      301\n",
       "6.0      134\n",
       "7.0       73\n",
       "8.0       32\n",
       "10.0      10\n",
       "9.0        8\n",
       "11.0       2\n",
       "12.0       1\n",
       "Name: OtherDatabases1, dtype: int64"
      ]
     },
     "execution_count": 38,
     "metadata": {},
     "output_type": "execute_result"
    }
   ],
   "source": [
    "data['OtherDatabases1'] = data['OtherDatabases1'].fillna(data.groupby('Salary')['OtherDatabases1'].transform('median'))\n",
    "data.OtherDatabases1.value_counts()"
   ]
  },
  {
   "cell_type": "markdown",
   "id": "89b869ef",
   "metadata": {},
   "source": [
    "### <a id='section242'>2.4.2 'Gender' column </a>"
   ]
  },
  {
   "cell_type": "code",
   "execution_count": 39,
   "id": "88b9cf07",
   "metadata": {},
   "outputs": [
    {
     "data": {
      "text/plain": [
       "Male                                                                          3458\n",
       "Not Asked                                                                     2848\n",
       "Female                                                                         394\n",
       "Prefer not to say                                                               42\n",
       "Non-binary/third gender                                                          8\n",
       "Attack Helicopter                                                                2\n",
       "Dragon                                                                           1\n",
       "This question is inappropriate.                                                  1\n",
       "There are only two genders for people, either male or female. I am a male.       1\n",
       "Muppet                                                                           1\n",
       "Meat Popsicle                                                                    1\n",
       "Cyborg                                                                           1\n",
       "Grayson Perry                                                                    1\n",
       "Attack Helicopter. (serious dude, gender questions?)                             1\n",
       "Alien                                                                            1\n",
       "Reptilian                                                                        1\n",
       "Attackhelicopter with rabbitears and afro-icelandic teeth                        1\n",
       "toad frog                                                                        1\n",
       "Apache Helicopter                                                                1\n",
       "Pastafarian                                                                      1\n",
       "Attack Helicopter (M)                                                            1\n",
       "Name: Gender, dtype: int64"
      ]
     },
     "execution_count": 39,
     "metadata": {},
     "output_type": "execute_result"
    }
   ],
   "source": [
    "data.Gender.value_counts()"
   ]
  },
  {
   "cell_type": "code",
   "execution_count": 40,
   "id": "8c68b9d0",
   "metadata": {},
   "outputs": [],
   "source": [
    "data_female = data[(data.Gender == 'Female')]\n",
    "data_male = data[(data.Gender == 'Male')]\n",
    "frames = [data_female, data_male]\n",
    "data_Gender = pd.concat(frames)\n",
    "data_nonGender = data[(data.Gender!='Female') & (data.Gender!='Male')]"
   ]
  },
  {
   "cell_type": "code",
   "execution_count": 41,
   "id": "e1b142fd",
   "metadata": {},
   "outputs": [],
   "source": [
    "data_Gender['Gender'] = data_Gender['Gender'].factorize()[0]\n",
    "data_nonGender['Gender'] = data_nonGender['Gender'].factorize()[0]"
   ]
  },
  {
   "cell_type": "markdown",
   "id": "9ff80ff3",
   "metadata": {},
   "source": [
    "__Comment:__\n",
    "\n",
    "non-missing values - train data\n",
    "\n",
    "missing values - test data"
   ]
  },
  {
   "cell_type": "code",
   "execution_count": 42,
   "id": "8ce6d64a",
   "metadata": {},
   "outputs": [],
   "source": [
    "list0 = ['Survey Year', 'SalaryUSD', 'Country', 'PrimaryDatabase','YearsWithThisDatabase', 'EmploymentStatus','JobTitle', 'ManageStaff', 'YearsWithThisTypeOfJob','OtherPeopleOnYourTeam', 'DatabaseServers', 'Education',\n",
    "         'Certifications', 'HoursWorkedPerWeek','TelecommuteDaysPerWeek', 'EmploymentSector', 'LookingForAnotherJob','Salary']\n",
    "\n",
    "X_train = data_Gender[list0]\n",
    "y_train = data_Gender.Gender\n",
    "X_test = data_nonGender[list0]\n",
    "y_test = data_nonGender.Gender"
   ]
  },
  {
   "cell_type": "code",
   "execution_count": 43,
   "id": "79dca530",
   "metadata": {},
   "outputs": [
    {
     "data": {
      "text/plain": [
       "0.8982346832814122"
      ]
     },
     "execution_count": 43,
     "metadata": {},
     "output_type": "execute_result"
    }
   ],
   "source": [
    "lr=LogisticRegression()\n",
    "lr.fit(X_train, y_train)\n",
    "lr.score(X_train, y_train)"
   ]
  },
  {
   "cell_type": "code",
   "execution_count": 44,
   "id": "19ab02d8",
   "metadata": {},
   "outputs": [
    {
     "data": {
      "text/plain": [
       "array([1, 1, 1, ..., 1, 1, 1], dtype=int64)"
      ]
     },
     "execution_count": 44,
     "metadata": {},
     "output_type": "execute_result"
    }
   ],
   "source": [
    "predict = lr.predict(X_test)\n",
    "predict"
   ]
  },
  {
   "cell_type": "code",
   "execution_count": 45,
   "id": "f579fff2",
   "metadata": {},
   "outputs": [
    {
     "data": {
      "text/plain": [
       "Gender\n",
       "1         2914\n",
       "0            1\n",
       "dtype: int64"
      ]
     },
     "execution_count": 45,
     "metadata": {},
     "output_type": "execute_result"
    }
   ],
   "source": [
    "# NewGender\n",
    "df = pd.DataFrame(predict, columns=['Gender'])\n",
    "df.value_counts()"
   ]
  },
  {
   "cell_type": "code",
   "execution_count": 46,
   "id": "d6284f96",
   "metadata": {},
   "outputs": [
    {
     "data": {
      "text/html": [
       "<div>\n",
       "<style scoped>\n",
       "    .dataframe tbody tr th:only-of-type {\n",
       "        vertical-align: middle;\n",
       "    }\n",
       "\n",
       "    .dataframe tbody tr th {\n",
       "        vertical-align: top;\n",
       "    }\n",
       "\n",
       "    .dataframe thead th {\n",
       "        text-align: right;\n",
       "    }\n",
       "</style>\n",
       "<table border=\"1\" class=\"dataframe\">\n",
       "  <thead>\n",
       "    <tr style=\"text-align: right;\">\n",
       "      <th></th>\n",
       "      <th>Gender</th>\n",
       "    </tr>\n",
       "  </thead>\n",
       "  <tbody>\n",
       "    <tr>\n",
       "      <th>587</th>\n",
       "      <td>0</td>\n",
       "    </tr>\n",
       "  </tbody>\n",
       "</table>\n",
       "</div>"
      ],
      "text/plain": [
       "     Gender\n",
       "587       0"
      ]
     },
     "execution_count": 46,
     "metadata": {},
     "output_type": "execute_result"
    }
   ],
   "source": [
    "df[df.Gender==0]"
   ]
  },
  {
   "cell_type": "code",
   "execution_count": 47,
   "id": "b2fe7e5a",
   "metadata": {},
   "outputs": [
    {
     "data": {
      "text/plain": [
       "1    6372\n",
       "2     395\n",
       "Name: Gender, dtype: int64"
      ]
     },
     "execution_count": 47,
     "metadata": {},
     "output_type": "execute_result"
    }
   ],
   "source": [
    "data['Gender'] = data['Gender'].factorize()[0]\n",
    "\n",
    "data.loc[data[\"Gender\"] == 0, \"Gender\"] = 1\n",
    "data.loc[(data[\"Gender\"] != 1) & (data[\"Gender\"] != 2), \"Gender\"] = 1\n",
    "data.loc[data.index==587, \"Gender\"] = 2\n",
    "data.Gender.value_counts()"
   ]
  },
  {
   "cell_type": "markdown",
   "id": "8bfda7c7",
   "metadata": {},
   "source": [
    "### <a id='section243'>2.4.3 'OtherJobDuties' column</a>"
   ]
  },
  {
   "cell_type": "code",
   "execution_count": 48,
   "id": "192aa301",
   "metadata": {},
   "outputs": [],
   "source": [
    "data['OtherJobDuties'] = data['OtherJobDuties'].replace('Not Asked', np.nan)"
   ]
  },
  {
   "cell_type": "code",
   "execution_count": 49,
   "id": "7db92977",
   "metadata": {},
   "outputs": [
    {
     "data": {
      "text/plain": [
       "DBA (Development Focus - tunes queries, indexes, does deployments)                                                                                                                                                                                                                                                          245\n",
       "Developer: T-SQL                                                                                                                                                                                                                                                                                                            211\n",
       "DBA (General - splits time evenly between writing & tuning queries AND building & troubleshooting servers)                                                                                                                                                                                                                  154\n",
       "Developer: Business Intelligence (SSRS, PowerBI, etc)                                                                                                                                                                                                                                                                       119\n",
       "DBA (Production Focus - build & troubleshoot servers, HA/DR)                                                                                                                                                                                                                                                                109\n",
       "                                                                                                                                                                                                                                                                                                                           ... \n",
       "Architect, DBA (General - splits time evenly between writing & tuning queries AND building & troubleshooting servers), Developer: App code (C#, JS, etc), Developer: Business Intelligence (SSRS, PowerBI, etc)                                                                                                               1\n",
       "Analyst, Architect, DBA (Development Focus - tunes queries, indexes, does deployments), DBA (Production Focus - build & troubleshoot servers, HA/DR), DBA (General - splits time evenly between writing & tuning queries AND building & troubleshooting servers), Developer: App code (C#, JS, etc), Developer: T-SQL         1\n",
       "DBA (Production Focus - build & troubleshoot servers, HA/DR), DBA (General - splits time evenly between writing & tuning queries AND building & troubleshooting servers), Engineer                                                                                                                                            1\n",
       "Analyst, Architect, DBA (Development Focus - tunes queries, indexes, does deployments), DBA (General - splits time evenly between writing & tuning queries AND building & troubleshooting servers), Developer: App code (C#, JS, etc), Developer: Business Intelligence (SSRS, PowerBI, etc), Developer: T-SQL, Engineer      1\n",
       "Architect, Data Scientist, DBA (General - splits time evenly between writing & tuning queries AND building & troubleshooting servers)                                                                                                                                                                                         1\n",
       "Name: OtherJobDuties, Length: 538, dtype: int64"
      ]
     },
     "execution_count": 49,
     "metadata": {},
     "output_type": "execute_result"
    }
   ],
   "source": [
    "data.OtherJobDuties.value_counts()"
   ]
  },
  {
   "cell_type": "code",
   "execution_count": 50,
   "id": "cfd5891f",
   "metadata": {},
   "outputs": [
    {
     "data": {
      "text/plain": [
       "3.0     2772\n",
       "4.0     1685\n",
       "1.0      743\n",
       "2.0      344\n",
       "5.0      305\n",
       "6.0      276\n",
       "7.0      223\n",
       "8.0      142\n",
       "9.0       88\n",
       "10.0      66\n",
       "11.0      54\n",
       "12.0      38\n",
       "14.0      11\n",
       "13.0      10\n",
       "17.0       4\n",
       "16.0       3\n",
       "15.0       3\n",
       "Name: OtherJobDuties, dtype: int64"
      ]
     },
     "execution_count": 50,
     "metadata": {},
     "output_type": "execute_result"
    }
   ],
   "source": [
    "data['OtherJobDuties'] = data['OtherJobDuties'].str.split(',').str.len()\n",
    "data['OtherJobDuties'] = data['OtherJobDuties'].fillna(data.groupby('Salary')['OtherJobDuties'].transform('median'))\n",
    "data.OtherJobDuties.value_counts()"
   ]
  },
  {
   "cell_type": "markdown",
   "id": "e0432a41",
   "metadata": {},
   "source": [
    "### <a id='section244'>2.4.4 'KindsOfTasksPerformed' column</a>"
   ]
  },
  {
   "cell_type": "code",
   "execution_count": 51,
   "id": "85716731",
   "metadata": {},
   "outputs": [
    {
     "data": {
      "text/plain": [
       "4.0    3517\n",
       "3.0    1081\n",
       "5.0     715\n",
       "6.0     484\n",
       "2.0     433\n",
       "1.0     249\n",
       "7.0     235\n",
       "8.0      53\n",
       "Name: KindsOfTasksPerformed, dtype: int64"
      ]
     },
     "execution_count": 51,
     "metadata": {},
     "output_type": "execute_result"
    }
   ],
   "source": [
    "data['KindsOfTasksPerformed'] = data['KindsOfTasksPerformed'].replace(\"Not Asked\", np.nan)\n",
    "data['KindsOfTasksPerformed'] = data['KindsOfTasksPerformed'].str.split(',').str.len()\n",
    "data['KindsOfTasksPerformed'] = data.groupby('Salary')['KindsOfTasksPerformed'].transform(lambda x: x.fillna(x.median()))\n",
    "data['KindsOfTasksPerformed'].value_counts()"
   ]
  },
  {
   "cell_type": "markdown",
   "id": "4dc3f544",
   "metadata": {},
   "source": [
    "### <a id='section245'>2.4.5 'EducationUsComputerRelated' column</a>"
   ]
  },
  {
   "cell_type": "code",
   "execution_count": 52,
   "id": "f8c690e5",
   "metadata": {},
   "outputs": [
    {
     "data": {
      "text/plain": [
       "1    3718\n",
       "0    1855\n",
       "Name: EducationIsComputerRelated, dtype: int64"
      ]
     },
     "execution_count": 52,
     "metadata": {},
     "output_type": "execute_result"
    }
   ],
   "source": [
    "data_edu1 = data[(data.EducationIsComputerRelated=='Yes')]\n",
    "data_edu0 = data[(data.EducationIsComputerRelated=='No')]\n",
    "frames0 = [data_edu0, data_edu1]\n",
    "data_edu = pd.concat(frames0)\n",
    "data_nonedu = data[(data.EducationIsComputerRelated!='Yes') & (data.EducationIsComputerRelated!='No')]\n",
    "data_edu['EducationIsComputerRelated'] = data_edu['EducationIsComputerRelated'].factorize()[0]\n",
    "data_nonedu['EducationIsComputerRelated'] = data_nonedu['EducationIsComputerRelated'].factorize()[0]\n",
    "data_edu.EducationIsComputerRelated.value_counts()"
   ]
  },
  {
   "cell_type": "code",
   "execution_count": 54,
   "id": "4cb6a7e9",
   "metadata": {},
   "outputs": [],
   "source": [
    "# non-missing values - train data\n",
    "# missing values - test data\n",
    "\n",
    "X_train = data_edu[list0]\n",
    "y_train = data_edu.EducationIsComputerRelated\n",
    "\n",
    "X_test = data_nonedu[list0]\n",
    "y_test = data_nonedu.EducationIsComputerRelated"
   ]
  },
  {
   "cell_type": "code",
   "execution_count": 55,
   "id": "786c4c92",
   "metadata": {},
   "outputs": [
    {
     "data": {
      "text/plain": [
       "0.6673246007536336"
      ]
     },
     "execution_count": 55,
     "metadata": {},
     "output_type": "execute_result"
    }
   ],
   "source": [
    "lr=LogisticRegression()\n",
    "lr.fit(X_train, y_train)\n",
    "lr.score(X_train, y_train)"
   ]
  },
  {
   "cell_type": "code",
   "execution_count": 56,
   "id": "8b8e8a55",
   "metadata": {},
   "outputs": [
    {
     "data": {
      "text/plain": [
       "EducationIsComputerRelated1\n",
       "1                              1194\n",
       "dtype: int64"
      ]
     },
     "execution_count": 56,
     "metadata": {},
     "output_type": "execute_result"
    }
   ],
   "source": [
    "predict = lr.predict(X_test)\n",
    "df = pd.DataFrame(predict, columns=['EducationIsComputerRelated1'])\n",
    "df.value_counts()"
   ]
  },
  {
   "cell_type": "code",
   "execution_count": 57,
   "id": "a51ea840",
   "metadata": {},
   "outputs": [
    {
     "data": {
      "text/plain": [
       "Yes    4912\n",
       "No     1855\n",
       "Name: EducationIsComputerRelated, dtype: int64"
      ]
     },
     "execution_count": 57,
     "metadata": {},
     "output_type": "execute_result"
    }
   ],
   "source": [
    "data['EducationIsComputerRelated'] = data['EducationIsComputerRelated'].replace(np.nan, 'Yes')\n",
    "data.EducationIsComputerRelated.value_counts()"
   ]
  },
  {
   "cell_type": "code",
   "execution_count": 58,
   "id": "b9f4d7fb",
   "metadata": {},
   "outputs": [],
   "source": [
    "data['EducationIsComputerRelated'] = data['EducationIsComputerRelated'].factorize()[0]\n",
    "data = data.drop(['Salary'], axis = 1)"
   ]
  },
  {
   "cell_type": "markdown",
   "id": "2efae0e7",
   "metadata": {},
   "source": [
    "__Comment:__ dropping 'Salary' column, because now we don't need it now (used it for filling missing values)"
   ]
  },
  {
   "cell_type": "markdown",
   "id": "3fe6f322",
   "metadata": {},
   "source": [
    "## <a id='section25'>2.5 Correlation matrix</a>"
   ]
  },
  {
   "cell_type": "code",
   "execution_count": 59,
   "id": "4d83870d",
   "metadata": {},
   "outputs": [
    {
     "data": {
      "text/plain": [
       "<AxesSubplot:>"
      ]
     },
     "execution_count": 59,
     "metadata": {},
     "output_type": "execute_result"
    },
    {
     "data": {
      "image/png": "[encoded data removed]",
      "text/plain": [
       "<Figure size 864x648 with 2 Axes>"
      ]
     },
     "metadata": {
      "needs_background": "light"
     },
     "output_type": "display_data"
    }
   ],
   "source": [
    "corrmat = data.corr()\n",
    "plt.subplots(figsize=(12,9))\n",
    "sns.heatmap(corrmat, vmax=0.9, square=True, cmap=\"RdYlGn\")"
   ]
  },
  {
   "cell_type": "code",
   "execution_count": 60,
   "id": "ab4db2bf",
   "metadata": {},
   "outputs": [
    {
     "data": {
      "text/plain": [
       "SalaryUSD                     1.000000\n",
       "YearsWithThisTypeOfJob        0.201617\n",
       "HoursWorkedPerWeek            0.192819\n",
       "KindsOfTasksPerformed         0.173365\n",
       "TelecommuteDaysPerWeek        0.156718\n",
       "OtherDatabases1               0.132355\n",
       "OtherJobDuties                0.122172\n",
       "OtherDatabases                0.093021\n",
       "ManageStaff                   0.091407\n",
       "EmploymentStatus              0.065426\n",
       "EducationIsComputerRelated    0.051778\n",
       "JobTitle                      0.043670\n",
       "Education                     0.038634\n",
       "Survey Year                   0.037426\n",
       "Gender                        0.021942\n",
       "Certifications                0.020745\n",
       "YearsWithThisDatabase         0.007592\n",
       "PrimaryDatabase               0.007259\n",
       "OtherPeopleOnYourTeam        -0.001326\n",
       "DatabaseServers              -0.028883\n",
       "CareerPlansThisYear          -0.031690\n",
       "EmploymentSector             -0.044177\n",
       "LookingForAnotherJob         -0.124271\n",
       "Country                      -0.272781\n",
       "Name: SalaryUSD, dtype: float64"
      ]
     },
     "execution_count": 60,
     "metadata": {},
     "output_type": "execute_result"
    }
   ],
   "source": [
    "corr = data.corr()\n",
    "corr[\"SalaryUSD\"].sort_values(ascending=False)"
   ]
  },
  {
   "cell_type": "markdown",
   "id": "1cdb65b7",
   "metadata": {},
   "source": [
    "## <a id='section3'>3. Models</a>\n",
    "### <a id='section31'>3.1 Feature Selection using Wrapper method</a> [(link)](https://www.analyticsvidhya.com/blog/2020/10/a-comprehensive-guide-to-feature-selection-using-wrapper-methods-in-python/)"
   ]
  },
  {
   "cell_type": "code",
   "execution_count": 61,
   "id": "a7a4f526",
   "metadata": {},
   "outputs": [],
   "source": [
    "X = data.drop(['SalaryUSD'], axis = 1)\n",
    "y = data.SalaryUSD"
   ]
  },
  {
   "cell_type": "markdown",
   "id": "615c2f5e",
   "metadata": {},
   "source": [
    "### Forward Selection\n",
    "In Forward Selection - we start with a null model and then start fitting the model with each individual feature one at a time and select the feature with the minimum p-value. "
   ]
  },
  {
   "cell_type": "code",
   "execution_count": 62,
   "id": "9a5ed6d1",
   "metadata": {},
   "outputs": [],
   "source": [
    "def forward_selection(data, target, significance_level=0.05):\n",
    "    initial_features = data.columns.tolist()\n",
    "    best_features = []\n",
    "    while (len(initial_features)>0):\n",
    "        remaining_features = list(set(initial_features)-set(best_features))\n",
    "        new_pval = pd.Series(index=remaining_features)\n",
    "        for new_column in remaining_features:\n",
    "            model = sm.OLS(target, sm.add_constant(data[best_features+[new_column]])).fit()\n",
    "            new_pval[new_column] = model.pvalues[new_column]\n",
    "        min_p_value = new_pval.min()\n",
    "        if(min_p_value<significance_level):\n",
    "            best_features.append(new_pval.idxmin())\n",
    "        else:\n",
    "            break\n",
    "    return best_features"
   ]
  },
  {
   "cell_type": "code",
   "execution_count": 63,
   "id": "769701aa",
   "metadata": {},
   "outputs": [
    {
     "data": {
      "text/plain": [
       "['Country',\n",
       " 'YearsWithThisTypeOfJob',\n",
       " 'HoursWorkedPerWeek',\n",
       " 'KindsOfTasksPerformed',\n",
       " 'TelecommuteDaysPerWeek',\n",
       " 'LookingForAnotherJob',\n",
       " 'OtherDatabases1',\n",
       " 'EmploymentStatus',\n",
       " 'ManageStaff',\n",
       " 'OtherJobDuties',\n",
       " 'EmploymentSector',\n",
       " 'Education',\n",
       " 'Certifications',\n",
       " 'DatabaseServers',\n",
       " 'EducationIsComputerRelated',\n",
       " 'JobTitle']"
      ]
     },
     "execution_count": 63,
     "metadata": {},
     "output_type": "execute_result"
    }
   ],
   "source": [
    "forward_selection(X,y)"
   ]
  },
  {
   "cell_type": "markdown",
   "id": "eb3a38fd",
   "metadata": {},
   "source": [
    "### Backward elimination\n",
    "In backward elimination, we start with the full model (including all the independent variables) and then remove the insignificant feature with the highest p-value(> significance level). "
   ]
  },
  {
   "cell_type": "code",
   "execution_count": 64,
   "id": "3429dec3",
   "metadata": {},
   "outputs": [],
   "source": [
    "def backward_elimination(data, target,significance_level = 0.05):\n",
    "    features = data.columns.tolist()\n",
    "    while(len(features)>0):\n",
    "        features_with_constant = sm.add_constant(data[features])\n",
    "        p_values = sm.OLS(target, features_with_constant).fit().pvalues[1:]\n",
    "        max_p_value = p_values.max()\n",
    "        if(max_p_value >= significance_level):\n",
    "            excluded_feature = p_values.idxmax()\n",
    "            features.remove(excluded_feature)\n",
    "        else:\n",
    "            break \n",
    "    return features"
   ]
  },
  {
   "cell_type": "code",
   "execution_count": 65,
   "id": "7a15412d",
   "metadata": {},
   "outputs": [
    {
     "data": {
      "text/plain": [
       "['Country',\n",
       " 'EmploymentStatus',\n",
       " 'JobTitle',\n",
       " 'ManageStaff',\n",
       " 'YearsWithThisTypeOfJob',\n",
       " 'DatabaseServers',\n",
       " 'Education',\n",
       " 'EducationIsComputerRelated',\n",
       " 'Certifications',\n",
       " 'HoursWorkedPerWeek',\n",
       " 'TelecommuteDaysPerWeek',\n",
       " 'EmploymentSector',\n",
       " 'LookingForAnotherJob',\n",
       " 'OtherJobDuties',\n",
       " 'KindsOfTasksPerformed',\n",
       " 'OtherDatabases1']"
      ]
     },
     "execution_count": 65,
     "metadata": {},
     "output_type": "execute_result"
    }
   ],
   "source": [
    "backward_elimination(X, y)"
   ]
  },
  {
   "cell_type": "markdown",
   "id": "13799cd8",
   "metadata": {},
   "source": [
    "__Comment:__ This above function returns the final list of significant features based on p-values through backward elimination."
   ]
  },
  {
   "cell_type": "markdown",
   "id": "92da6181",
   "metadata": {},
   "source": [
    "## <a id='section32'>3.2 Linear Regression</a>"
   ]
  },
  {
   "cell_type": "code",
   "execution_count": 66,
   "id": "9986c453",
   "metadata": {},
   "outputs": [],
   "source": [
    "from sklearn.feature_selection import RFE\n",
    "from sklearn.linear_model import LinearRegression"
   ]
  },
  {
   "cell_type": "markdown",
   "id": "f863f443",
   "metadata": {},
   "source": [
    "__Comment:__ Function for evalusting MAE, MSE, RMSE, R-squared."
   ]
  },
  {
   "cell_type": "code",
   "execution_count": 67,
   "id": "5900280f",
   "metadata": {},
   "outputs": [],
   "source": [
    "def print_evaluate(true, predicted):  \n",
    "    mae = metrics.mean_absolute_error(true, predicted)\n",
    "    mse = metrics.mean_squared_error(true, predicted)\n",
    "    rmse = np.sqrt(metrics.mean_squared_error(true, predicted))\n",
    "    r2_square = metrics.r2_score(true, predicted)\n",
    "    print('MAE:', mae)\n",
    "    print('MSE:', mse)\n",
    "    print('RMSE:', rmse)\n",
    "    print('R2 Square', r2_square)\n",
    "    print('__________________________________')\n",
    "    \n",
    "def evaluate(true, predicted):\n",
    "    mae = metrics.mean_absolute_error(true, predicted)\n",
    "    mse = metrics.mean_squared_error(true, predicted)\n",
    "    rmse = np.sqrt(metrics.mean_squared_error(true, predicted))\n",
    "    r2_square = metrics.r2_score(true, predicted)\n",
    "    return mae, mse, rmse, r2_square"
   ]
  },
  {
   "cell_type": "markdown",
   "id": "f301a6e9",
   "metadata": {},
   "source": [
    "__Comment:__ Defining as X columns that were chosen in backward elimination."
   ]
  },
  {
   "cell_type": "code",
   "execution_count": 68,
   "id": "7440eace",
   "metadata": {},
   "outputs": [],
   "source": [
    "X = data[['Country','EmploymentStatus','JobTitle','ManageStaff','YearsWithThisTypeOfJob','DatabaseServers','Education','EducationIsComputerRelated','Certifications','HoursWorkedPerWeek','TelecommuteDaysPerWeek','EmploymentSector','LookingForAnotherJob','OtherJobDuties','KindsOfTasksPerformed','OtherDatabases1']]\n",
    "y = data['SalaryUSD']"
   ]
  },
  {
   "cell_type": "code",
   "execution_count": 69,
   "id": "f9414ae8",
   "metadata": {},
   "outputs": [],
   "source": [
    "# Test, Train splitting with random_state=42.\n",
    "X_train, X_test, y_train, y_test = train_test_split(X, y, test_size=0.33, random_state=42)"
   ]
  },
  {
   "cell_type": "code",
   "execution_count": 70,
   "id": "5f3b7009",
   "metadata": {},
   "outputs": [],
   "source": [
    "lm = LinearRegression()\n",
    "lm.fit(X_train, y_train)\n",
    "\n",
    "rfe = RFE(lm, n_features_to_select=10)             \n",
    "rfe = rfe.fit(X_train, y_train)"
   ]
  },
  {
   "cell_type": "code",
   "execution_count": 71,
   "id": "f5a20026",
   "metadata": {},
   "outputs": [
    {
     "name": "stdout",
     "output_type": "stream",
     "text": [
      "Test set evaluation:\n",
      "_____________________________________\n",
      "MAE: 27267.90231019051\n",
      "MSE: 1158896386.8181036\n",
      "RMSE: 34042.567277132664\n",
      "R2 Square 0.09271630872487868\n",
      "__________________________________\n",
      "Train set evaluation:\n",
      "_____________________________________\n",
      "MAE: 26589.873028577276\n",
      "MSE: 1105312735.4374127\n",
      "RMSE: 33246.24392976465\n",
      "R2 Square 0.08755628142524108\n",
      "__________________________________\n"
     ]
    }
   ],
   "source": [
    "test_pred = rfe.predict(X_test)\n",
    "train_pred = rfe.predict(X_train)\n",
    "\n",
    "print('Test set evaluation:\\n_____________________________________')\n",
    "print_evaluate(y_test, test_pred)\n",
    "\n",
    "print('Train set evaluation:\\n_____________________________________')\n",
    "print_evaluate(y_train, train_pred)"
   ]
  },
  {
   "cell_type": "markdown",
   "id": "6079e12d",
   "metadata": {},
   "source": [
    "### Linear Regression with Hyperparameter Tuning (using Grid Search Cross-Validation)"
   ]
  },
  {
   "cell_type": "code",
   "execution_count": 74,
   "id": "9cd86979",
   "metadata": {},
   "outputs": [],
   "source": [
    "from sklearn.model_selection import KFold\n",
    "from sklearn.model_selection import GridSearchCV"
   ]
  },
  {
   "cell_type": "code",
   "execution_count": 75,
   "id": "3e704e2c",
   "metadata": {},
   "outputs": [],
   "source": [
    "# creating a CV scheme\n",
    "folds = KFold(n_splits = 5, shuffle = True, random_state = 42)\n",
    "\n",
    "# specifying hyperparameters\n",
    "hyper_params = [{'n_features_to_select': list(range(1, 14))}]"
   ]
  },
  {
   "cell_type": "markdown",
   "id": "a5d35e8e",
   "metadata": {},
   "source": [
    "__Comment:__ As a next step, we will create Grid Search"
   ]
  },
  {
   "cell_type": "code",
   "execution_count": 76,
   "id": "59f26a7d",
   "metadata": {},
   "outputs": [
    {
     "name": "stdout",
     "output_type": "stream",
     "text": [
      "Fitting 5 folds for each of 13 candidates, totalling 65 fits\n"
     ]
    },
    {
     "data": {
      "text/plain": [
       "GridSearchCV(cv=KFold(n_splits=5, random_state=42, shuffle=True),\n",
       "             estimator=RFE(estimator=LinearRegression(normalize=True)),\n",
       "             param_grid=[{'n_features_to_select': [1, 2, 3, 4, 5, 6, 7, 8, 9,\n",
       "                                                   10, 11, 12, 13]}],\n",
       "             return_train_score=True, scoring='r2', verbose=1)"
      ]
     },
     "execution_count": 76,
     "metadata": {},
     "output_type": "execute_result"
    }
   ],
   "source": [
    "# our model\n",
    "lm = LinearRegression(normalize=True)\n",
    "lm.fit(X_train, y_train)\n",
    "rfe = RFE(lm)             \n",
    "\n",
    "# GridSearchCV()\n",
    "model_cv = GridSearchCV(estimator = rfe, param_grid = hyper_params, \n",
    "                        scoring= 'r2', cv = folds, verbose = 1, return_train_score=True)      \n",
    "# model fitting\n",
    "model_cv.fit(X_train, y_train) "
   ]
  },
  {
   "cell_type": "code",
   "execution_count": 77,
   "id": "1681c1b2",
   "metadata": {},
   "outputs": [
    {
     "data": {
      "text/plain": [
       "<matplotlib.legend.Legend at 0x2530030eb80>"
      ]
     },
     "execution_count": 77,
     "metadata": {},
     "output_type": "execute_result"
    },
    {
     "data": {
      "image/png": "[encoded data removed]",
      "text/plain": [
       "<Figure size 1080x360 with 1 Axes>"
      ]
     },
     "metadata": {
      "needs_background": "light"
     },
     "output_type": "display_data"
    }
   ],
   "source": [
    "cv_results = pd.DataFrame(model_cv.cv_results_) # cv results\n",
    "\n",
    "plt.figure(figsize=(15,5))\n",
    "plt.plot(cv_results[\"param_n_features_to_select\"], cv_results[\"mean_test_score\"])\n",
    "plt.plot(cv_results[\"param_n_features_to_select\"], cv_results[\"mean_train_score\"])\n",
    "plt.xlabel('number of features')\n",
    "plt.ylabel('R-squared')\n",
    "plt.title(\"optimal number of features\")\n",
    "plt.legend(['test data', 'train data'], loc='lower right')"
   ]
  },
  {
   "cell_type": "markdown",
   "id": "79321d83",
   "metadata": {},
   "source": [
    "__Comment:___ Plotting CV results"
   ]
  },
  {
   "cell_type": "code",
   "execution_count": 78,
   "id": "8c0410a8",
   "metadata": {},
   "outputs": [
    {
     "data": {
      "text/plain": [
       "{'n_features_to_select': 13}"
      ]
     },
     "execution_count": 78,
     "metadata": {},
     "output_type": "execute_result"
    }
   ],
   "source": [
    "# best parameters\n",
    "model_cv.best_params_"
   ]
  },
  {
   "cell_type": "code",
   "execution_count": 79,
   "id": "4487c9dc",
   "metadata": {},
   "outputs": [
    {
     "name": "stdout",
     "output_type": "stream",
     "text": [
      "Test set evaluation:\n",
      "_____________________________________\n",
      "MAE: 25266.293789541865\n",
      "MSE: 1015738465.282768\n",
      "RMSE: 31870.652100055435\n",
      "R2 Square 0.20479263320326357\n",
      "__________________________________\n",
      "Train set evaluation:\n",
      "_____________________________________\n",
      "MAE: 24528.39416659507\n",
      "MSE: 957377984.3570709\n",
      "RMSE: 30941.525242900858\n",
      "R2 Square 0.2096774965840993\n",
      "__________________________________\n"
     ]
    }
   ],
   "source": [
    "# inserting best number of features\n",
    "n_features_optimal = 13\n",
    "\n",
    "lm = LinearRegression()\n",
    "lm.fit(X_train, y_train)\n",
    "\n",
    "rfe = RFE(lm, n_features_to_select=n_features_optimal)             \n",
    "rfe = rfe.fit(X_train, y_train)\n",
    "\n",
    "test_pred = rfe.predict(X_test)\n",
    "train_pred = rfe.predict(X_train)\n",
    "\n",
    "print('Test set evaluation:\\n_____________________________________')\n",
    "print_evaluate(y_test, test_pred)\n",
    "\n",
    "print('Train set evaluation:\\n_____________________________________')\n",
    "print_evaluate(y_train, train_pred)"
   ]
  },
  {
   "cell_type": "markdown",
   "id": "691f7f67",
   "metadata": {},
   "source": [
    "__Comment:__ As it can be from above our R-squared has increased from 0.0927 to 0.2047 for our test set."
   ]
  },
  {
   "cell_type": "code",
   "execution_count": 80,
   "id": "29c77598",
   "metadata": {},
   "outputs": [],
   "source": [
    "results_df = pd.DataFrame(data=[[\"Linear Regression\", *evaluate(y_test, test_pred) ]], \n",
    "                          columns=['Model', 'MAE', 'MSE', 'RMSE', 'R2 Square'])"
   ]
  },
  {
   "cell_type": "markdown",
   "id": "5d1d1423",
   "metadata": {},
   "source": [
    "## <a id='section33'>3.3 Polynomial Regression</a>"
   ]
  },
  {
   "cell_type": "code",
   "execution_count": 81,
   "id": "5d287541",
   "metadata": {},
   "outputs": [],
   "source": [
    "from sklearn.preprocessing import PolynomialFeatures"
   ]
  },
  {
   "cell_type": "code",
   "execution_count": 82,
   "id": "5a6041f0",
   "metadata": {},
   "outputs": [
    {
     "name": "stdout",
     "output_type": "stream",
     "text": [
      "Test set evaluation:\n",
      "_____________________________________\n",
      "MAE: 24793.662304895577\n",
      "MSE: 968460435.2881626\n",
      "RMSE: 31120.0969678464\n",
      "R2 Square 0.24180593832495267\n",
      "__________________________________\n",
      "Train set evaluation:\n",
      "_____________________________________\n",
      "MAE: 23247.728742661453\n",
      "MSE: 863999107.0671678\n",
      "RMSE: 29393.861724298284\n",
      "R2 Square 0.2867624403281134\n",
      "__________________________________\n"
     ]
    }
   ],
   "source": [
    "poly_reg = PolynomialFeatures(degree=2)\n",
    "\n",
    "X_train_2_d = poly_reg.fit_transform(X_train)\n",
    "X_test_2_d = poly_reg.transform(X_test)\n",
    "\n",
    "lin_reg = LinearRegression(normalize=True)\n",
    "lin_reg.fit(X_train_2_d,y_train)\n",
    "\n",
    "test_pred = lin_reg.predict(X_test_2_d)\n",
    "train_pred = lin_reg.predict(X_train_2_d)\n",
    "\n",
    "print('Test set evaluation:\\n_____________________________________')\n",
    "print_evaluate(y_test, test_pred)\n",
    "\n",
    "print('Train set evaluation:\\n_____________________________________')\n",
    "print_evaluate(y_train, train_pred)"
   ]
  },
  {
   "cell_type": "code",
   "execution_count": 83,
   "id": "c30c72f3",
   "metadata": {},
   "outputs": [],
   "source": [
    "results_df2 = pd.DataFrame(data=[[\"Polynomial Regression\", *evaluate(y_test, test_pred) ]], \n",
    "                          columns=['Model', 'MAE', 'MSE', 'RMSE', 'R2 Square'])\n",
    "results_df = results_df.append(results_df2, ignore_index=True)"
   ]
  },
  {
   "cell_type": "markdown",
   "id": "7860eade",
   "metadata": {},
   "source": [
    "## <a id='section34'>3.4 Ridge Regression</a>"
   ]
  },
  {
   "cell_type": "code",
   "execution_count": 84,
   "id": "d272753f",
   "metadata": {},
   "outputs": [],
   "source": [
    "from sklearn.linear_model import Ridge"
   ]
  },
  {
   "cell_type": "code",
   "execution_count": 85,
   "id": "77e36da3",
   "metadata": {},
   "outputs": [
    {
     "name": "stdout",
     "output_type": "stream",
     "text": [
      "Test set evaluation:\n",
      "_____________________________________\n",
      "MAE: 25176.14433029998\n",
      "MSE: 1007800423.1711515\n",
      "RMSE: 31745.87253756229\n",
      "R2 Square 0.21100721479178575\n",
      "__________________________________\n",
      "Train set evaluation:\n",
      "_____________________________________\n",
      "MAE: 24476.16233514473\n",
      "MSE: 952567089.1979089\n",
      "RMSE: 30863.68560619274\n",
      "R2 Square 0.21364892559958237\n",
      "__________________________________\n"
     ]
    }
   ],
   "source": [
    "model = Ridge(alpha=100, solver='cholesky', tol=0.0001, random_state=42)\n",
    "model.fit(X_train, y_train)\n",
    "pred = model.predict(X_test)\n",
    "\n",
    "test_pred = model.predict(X_test)\n",
    "train_pred = model.predict(X_train)\n",
    "\n",
    "print('Test set evaluation:\\n_____________________________________')\n",
    "print_evaluate(y_test, test_pred)\n",
    "\n",
    "print('Train set evaluation:\\n_____________________________________')\n",
    "print_evaluate(y_train, train_pred)"
   ]
  },
  {
   "cell_type": "markdown",
   "id": "9131cca1",
   "metadata": {},
   "source": [
    "### Ridge Regression with Grid Search"
   ]
  },
  {
   "cell_type": "markdown",
   "id": "a4f7582c",
   "metadata": {},
   "source": [
    "__Comment:__ Checking for alpha from .0001 to 1 and finding the best value for alpha"
   ]
  },
  {
   "cell_type": "code",
   "execution_count": 86,
   "id": "fb18bc8a",
   "metadata": {},
   "outputs": [
    {
     "data": {
      "text/plain": [
       "array([1.00000000e-04, 1.37382380e-04, 1.88739182e-04, 2.59294380e-04,\n",
       "       3.56224789e-04, 4.89390092e-04, 6.72335754e-04, 9.23670857e-04,\n",
       "       1.26896100e-03, 1.74332882e-03, 2.39502662e-03, 3.29034456e-03,\n",
       "       4.52035366e-03, 6.21016942e-03, 8.53167852e-03, 1.17210230e-02,\n",
       "       1.61026203e-02, 2.21221629e-02, 3.03919538e-02, 4.17531894e-02,\n",
       "       5.73615251e-02, 7.88046282e-02, 1.08263673e-01, 1.48735211e-01,\n",
       "       2.04335972e-01, 2.80721620e-01, 3.85662042e-01, 5.29831691e-01,\n",
       "       7.27895384e-01, 1.00000000e+00])"
      ]
     },
     "execution_count": 86,
     "metadata": {},
     "output_type": "execute_result"
    }
   ],
   "source": [
    "alpha_space = np.logspace(-4, 0, 30)   \n",
    "alpha_space"
   ]
  },
  {
   "cell_type": "code",
   "execution_count": 87,
   "id": "06efe97a",
   "metadata": {},
   "outputs": [],
   "source": [
    "ridge_scores = []\n",
    "ridge = Ridge(normalize = True)\n",
    "for alpha in alpha_space:\n",
    "    ridge.alpha = alpha\n",
    "    val = np.mean(cross_val_score(ridge, X, y, cv = 10))\n",
    "    ridge_scores.append(val)"
   ]
  },
  {
   "cell_type": "code",
   "execution_count": 88,
   "id": "feb9f840",
   "metadata": {},
   "outputs": [
    {
     "data": {
      "image/png": "[encoded data removed]",
      "text/plain": [
       "<Figure size 576x576 with 1 Axes>"
      ]
     },
     "metadata": {
      "needs_background": "light"
     },
     "output_type": "display_data"
    }
   ],
   "source": [
    "plt.figure(figsize=(8, 8))\n",
    "plt.plot(alpha_space, ridge_scores, marker = 'D', label = \"Ridge\")\n",
    "plt.legend()\n",
    "plt.show()"
   ]
  },
  {
   "cell_type": "markdown",
   "id": "7090b1dd",
   "metadata": {},
   "source": [
    "__Comment:__ Performing GridSearchCV with Cross Validation technique on Ridge Regression and finding the optimum value of alpha"
   ]
  },
  {
   "cell_type": "code",
   "execution_count": 89,
   "id": "a665af45",
   "metadata": {},
   "outputs": [
    {
     "name": "stdout",
     "output_type": "stream",
     "text": [
      "{'alpha': 0.029150530628251816}\n",
      "0.2056596637125793\n"
     ]
    }
   ],
   "source": [
    "params = {'alpha': (np.logspace(-8, 8, 100))} # will check from 1e-08 to 1e+08\n",
    "ridge = Ridge(normalize=True)\n",
    "ridge_model = GridSearchCV(ridge, params, cv = 10)\n",
    "ridge_model.fit(X_train, y_train)\n",
    "print(ridge_model.best_params_)\n",
    "print(ridge_model.best_score_)"
   ]
  },
  {
   "cell_type": "markdown",
   "id": "8532aa73",
   "metadata": {},
   "source": [
    "__Comment:__ Using value of alpha as 0.029150 to get best accuracy for Ridge Regression"
   ]
  },
  {
   "cell_type": "code",
   "execution_count": 90,
   "id": "8ee0c504",
   "metadata": {},
   "outputs": [
    {
     "name": "stdout",
     "output_type": "stream",
     "text": [
      "Test set evaluation:\n",
      "_____________________________________\n",
      "MAE: 25181.8534001059\n",
      "MSE: 1007379321.7320774\n",
      "RMSE: 31739.23946366827\n",
      "R2 Square 0.2113368891892471\n",
      "__________________________________\n",
      "Train set evaluation:\n",
      "_____________________________________\n",
      "MAE: 24488.124759648144\n",
      "MSE: 952608995.1228464\n",
      "RMSE: 30864.36448597065\n",
      "R2 Square 0.21361433195313795\n",
      "__________________________________\n"
     ]
    }
   ],
   "source": [
    "ridge = Ridge(alpha = 0.029150, normalize = True)\n",
    "ridge.fit(X_train, y_train)\n",
    "train_score = ridge.score(X_train, y_train)\n",
    "test_score = ridge.score(X_test, y_test)\n",
    "test_pred = ridge.predict(X_test)\n",
    "train_pred = ridge.predict(X_train)\n",
    "\n",
    "print('Test set evaluation:\\n_____________________________________')\n",
    "print_evaluate(y_test, test_pred)\n",
    "\n",
    "print('Train set evaluation:\\n_____________________________________')\n",
    "print_evaluate(y_train, train_pred)"
   ]
  },
  {
   "cell_type": "markdown",
   "id": "4088b60c",
   "metadata": {},
   "source": [
    "__Comment:__ For the Ridge Regression R-squared for test data has changed from 0.2110 to 0.2113."
   ]
  },
  {
   "cell_type": "code",
   "execution_count": 91,
   "id": "05a9a172",
   "metadata": {},
   "outputs": [],
   "source": [
    "results_df3 = pd.DataFrame(data=[[\"Ridge Regression\", *evaluate(y_test, test_pred) ]], \n",
    "                          columns=['Model', 'MAE', 'MSE', 'RMSE', 'R2 Square'])\n",
    "results_df = results_df.append(results_df3, ignore_index=True)"
   ]
  },
  {
   "cell_type": "markdown",
   "id": "5b9fe323",
   "metadata": {},
   "source": [
    "## <a id='section35'>3.5 Lasso Regression</a>"
   ]
  },
  {
   "cell_type": "code",
   "execution_count": 92,
   "id": "edf9558f",
   "metadata": {},
   "outputs": [],
   "source": [
    "from sklearn.linear_model import Lasso"
   ]
  },
  {
   "cell_type": "code",
   "execution_count": 93,
   "id": "57b78c5b",
   "metadata": {},
   "outputs": [
    {
     "name": "stdout",
     "output_type": "stream",
     "text": [
      "Test set evaluation:\n",
      "_____________________________________\n",
      "MAE: 26313.801041339633\n",
      "MSE: 1110936690.4565876\n",
      "RMSE: 33330.71692083126\n",
      "R2 Square 0.13026328086341554\n",
      "__________________________________\n",
      "Train set evaluation:\n",
      "_____________________________________\n",
      "MAE: 25696.68614083319\n",
      "MSE: 1052339277.5366223\n",
      "RMSE: 32439.779246114213\n",
      "R2 Square 0.13128625699060237\n",
      "__________________________________\n"
     ]
    }
   ],
   "source": [
    "model = Lasso(alpha=0.01, \n",
    "              fit_intercept = True,\n",
    "              normalize = False,\n",
    "              precompute=True, \n",
    "              warm_start=True, \n",
    "              positive=True, \n",
    "              selection='random',\n",
    "              random_state=42)\n",
    "model.fit(X_train, y_train)\n",
    "\n",
    "test_pred = model.predict(X_test)\n",
    "train_pred = model.predict(X_train)\n",
    "\n",
    "print('Test set evaluation:\\n_____________________________________')\n",
    "print_evaluate(y_test, test_pred)\n",
    "\n",
    "print('Train set evaluation:\\n_____________________________________')\n",
    "print_evaluate(y_train, train_pred)"
   ]
  },
  {
   "cell_type": "markdown",
   "id": "0b7c35f4",
   "metadata": {},
   "source": [
    "### Lasso Regression with Grid Search"
   ]
  },
  {
   "cell_type": "markdown",
   "id": "5f899050",
   "metadata": {},
   "source": [
    "__Comment:__ Checking for alpha from .0001 to 1 and finding the best value for alpha"
   ]
  },
  {
   "cell_type": "code",
   "execution_count": 94,
   "id": "a9533dc4",
   "metadata": {},
   "outputs": [
    {
     "data": {
      "text/plain": [
       "array([1.00000000e-04, 1.37382380e-04, 1.88739182e-04, 2.59294380e-04,\n",
       "       3.56224789e-04, 4.89390092e-04, 6.72335754e-04, 9.23670857e-04,\n",
       "       1.26896100e-03, 1.74332882e-03, 2.39502662e-03, 3.29034456e-03,\n",
       "       4.52035366e-03, 6.21016942e-03, 8.53167852e-03, 1.17210230e-02,\n",
       "       1.61026203e-02, 2.21221629e-02, 3.03919538e-02, 4.17531894e-02,\n",
       "       5.73615251e-02, 7.88046282e-02, 1.08263673e-01, 1.48735211e-01,\n",
       "       2.04335972e-01, 2.80721620e-01, 3.85662042e-01, 5.29831691e-01,\n",
       "       7.27895384e-01, 1.00000000e+00])"
      ]
     },
     "execution_count": 94,
     "metadata": {},
     "output_type": "execute_result"
    }
   ],
   "source": [
    "alpha_space = np.logspace(-4, 0, 30)   \n",
    "alpha_space"
   ]
  },
  {
   "cell_type": "code",
   "execution_count": 95,
   "id": "0076793d",
   "metadata": {},
   "outputs": [],
   "source": [
    "lasso_scores = []\n",
    "lasso = Lasso(normalize = True)\n",
    "for alpha in alpha_space:\n",
    "    lasso.alpha = alpha\n",
    "    val = np.mean(cross_val_score(lasso, X, y, cv = 10))\n",
    "    lasso_scores.append(val)"
   ]
  },
  {
   "cell_type": "code",
   "execution_count": 96,
   "id": "a5203be0",
   "metadata": {},
   "outputs": [
    {
     "data": {
      "image/png": "[encoded data removed]",
      "text/plain": [
       "<Figure size 576x576 with 1 Axes>"
      ]
     },
     "metadata": {
      "needs_background": "light"
     },
     "output_type": "display_data"
    }
   ],
   "source": [
    "plt.figure(figsize=(8, 8))\n",
    "plt.plot(alpha_space, lasso_scores, marker = 'D', label = \"Lasso\")\n",
    "plt.legend()\n",
    "plt.show()"
   ]
  },
  {
   "cell_type": "markdown",
   "id": "750a0eb6",
   "metadata": {},
   "source": [
    "__Comment:__ Performing GridSearchCV with Cross Validation technique on Lasso Regression and finding the optimum value of alpha."
   ]
  },
  {
   "cell_type": "code",
   "execution_count": 97,
   "id": "74a95740",
   "metadata": {},
   "outputs": [
    {
     "name": "stdout",
     "output_type": "stream",
     "text": [
      "{'alpha': 0.572236765935022}\n",
      "0.20552347121489825\n"
     ]
    }
   ],
   "source": [
    "params = {'alpha': (np.logspace(-8, 8, 100))} # will check from 1e-08 to 1e+08\n",
    "lasso = Lasso(normalize=True)\n",
    "lasso_model = GridSearchCV(lasso, params, cv = 10)\n",
    "lasso_model.fit(X_train, y_train)\n",
    "print(lasso_model.best_params_)\n",
    "print(lasso_model.best_score_)"
   ]
  },
  {
   "cell_type": "markdown",
   "id": "78362eab",
   "metadata": {},
   "source": [
    "__Comment:__ Using value of alpha as 0.572236 to get best accuracy for Lasso Regression."
   ]
  },
  {
   "cell_type": "code",
   "execution_count": 98,
   "id": "a7be770f",
   "metadata": {},
   "outputs": [
    {
     "name": "stdout",
     "output_type": "stream",
     "text": [
      "Test set evaluation:\n",
      "_____________________________________\n",
      "MAE: 25172.837057559882\n",
      "MSE: 1007286535.8740538\n",
      "RMSE: 31737.777740006528\n",
      "R2 Square 0.21140952993325435\n",
      "__________________________________\n",
      "Train set evaluation:\n",
      "_____________________________________\n",
      "MAE: 24475.706235570327\n",
      "MSE: 952484756.0378914\n",
      "RMSE: 30862.351758054527\n",
      "R2 Square 0.21371689222321733\n",
      "__________________________________\n"
     ]
    }
   ],
   "source": [
    "lasso = Lasso(alpha = 0.572236, normalize = True)\n",
    "lasso.fit(X_train, y_train)\n",
    "train_score = lasso.score(X_train, y_train)\n",
    "test_score = lasso.score(X_test, y_test)\n",
    "test_pred = lasso.predict(X_test)\n",
    "train_pred = lasso.predict(X_train)\n",
    "\n",
    "print('Test set evaluation:\\n_____________________________________')\n",
    "print_evaluate(y_test, test_pred)\n",
    "\n",
    "print('Train set evaluation:\\n_____________________________________')\n",
    "print_evaluate(y_train, train_pred)"
   ]
  },
  {
   "cell_type": "markdown",
   "id": "c97562f3",
   "metadata": {},
   "source": [
    "__Comment:__ R-squared (test data) has increased from 0.1302 till 0.2114."
   ]
  },
  {
   "cell_type": "code",
   "execution_count": 99,
   "id": "b77c5c14",
   "metadata": {},
   "outputs": [],
   "source": [
    "results_df4 = pd.DataFrame(data=[[\"Lasso Regression\", *evaluate(y_test, test_pred) ]], \n",
    "                          columns=['Model', 'MAE', 'MSE', 'RMSE', 'R2 Square'])\n",
    "results_df = results_df.append(results_df4, ignore_index=True)"
   ]
  },
  {
   "cell_type": "markdown",
   "id": "b4959d74",
   "metadata": {},
   "source": [
    "## <a id='section36'>3.6 Random Forest Regressor</a>"
   ]
  },
  {
   "cell_type": "code",
   "execution_count": 100,
   "id": "cd5a5266",
   "metadata": {},
   "outputs": [],
   "source": [
    "from sklearn.ensemble import RandomForestRegressor"
   ]
  },
  {
   "cell_type": "code",
   "execution_count": 101,
   "id": "99dace35",
   "metadata": {},
   "outputs": [
    {
     "name": "stdout",
     "output_type": "stream",
     "text": [
      "Test set evaluation:\n",
      "_____________________________________\n",
      "MAE: 17220.381052397493\n",
      "MSE: 536073496.3986552\n",
      "RMSE: 23153.261031626953\n",
      "R2 Square 0.5803155949577816\n",
      "__________________________________\n",
      "Train set evaluation:\n",
      "_____________________________________\n",
      "MAE: 6321.64545014251\n",
      "MSE: 73155014.3880456\n",
      "RMSE: 8553.070465513867\n",
      "R2 Square 0.9396100024721031\n",
      "__________________________________\n"
     ]
    }
   ],
   "source": [
    "rf_reg = RandomForestRegressor(n_estimators=500)\n",
    "rf_reg.fit(X_train, y_train)\n",
    "\n",
    "test_pred = rf_reg.predict(X_test)\n",
    "train_pred = rf_reg.predict(X_train)\n",
    "\n",
    "print('Test set evaluation:\\n_____________________________________')\n",
    "print_evaluate(y_test, test_pred)\n",
    "\n",
    "print('Train set evaluation:\\n_____________________________________')\n",
    "print_evaluate(y_train, train_pred)"
   ]
  },
  {
   "cell_type": "markdown",
   "id": "5def8cdb",
   "metadata": {},
   "source": [
    "### Random Forest Regressor with Grid-Search"
   ]
  },
  {
   "cell_type": "code",
   "execution_count": 102,
   "id": "29e4164c",
   "metadata": {},
   "outputs": [
    {
     "data": {
      "text/plain": [
       "GridSearchCV(cv=5, estimator=RandomForestRegressor(), n_jobs=-1,\n",
       "             param_grid={'max_depth': range(1, 10),\n",
       "                         'n_estimators': [10, 50, 100, 200]},\n",
       "             scoring='neg_mean_squared_error')"
      ]
     },
     "execution_count": 102,
     "metadata": {},
     "output_type": "execute_result"
    }
   ],
   "source": [
    "param_grid = {'max_depth': range(1, 10), 'n_estimators': [10, 50, 100, 200] }\n",
    "\n",
    "rfc_gs = GridSearchCV(estimator=RandomForestRegressor(),\n",
    "                      param_grid=param_grid, cv=5, \n",
    "                      scoring='neg_mean_squared_error', verbose=0, n_jobs=-1)\n",
    "\n",
    "rfc_gs.fit(X, y)"
   ]
  },
  {
   "cell_type": "code",
   "execution_count": 103,
   "id": "93092ceb",
   "metadata": {},
   "outputs": [
    {
     "data": {
      "text/plain": [
       "{'max_depth': 9, 'n_estimators': 200}"
      ]
     },
     "execution_count": 103,
     "metadata": {},
     "output_type": "execute_result"
    }
   ],
   "source": [
    "rfc_gs.best_params_"
   ]
  },
  {
   "cell_type": "markdown",
   "id": "eb709e74",
   "metadata": {},
   "source": [
    "__Comment:__ Best parameters for our Random Forest Regressor. Maximum depth of the tree is 9, and the number of trees is 200."
   ]
  },
  {
   "cell_type": "code",
   "execution_count": 104,
   "id": "634aed0a",
   "metadata": {},
   "outputs": [
    {
     "name": "stdout",
     "output_type": "stream",
     "text": [
      "Test set evaluation:\n",
      "_____________________________________\n",
      "MAE: 17495.36095737418\n",
      "MSE: 549631347.8293318\n",
      "RMSE: 23444.217790946488\n",
      "R2 Square 0.569701343647915\n",
      "__________________________________\n",
      "Train set evaluation:\n",
      "_____________________________________\n",
      "MAE: 13862.433897297962\n",
      "MSE: 331313854.33916354\n",
      "RMSE: 18202.028852278076\n",
      "R2 Square 0.7264979986420503\n",
      "__________________________________\n"
     ]
    }
   ],
   "source": [
    "random_forest = RandomForestRegressor(max_depth=9, n_estimators=200, \n",
    "                                random_state=42, verbose=False)\n",
    "random_forest.fit(X_train, y_train)\n",
    "\n",
    "test_pred = random_forest.predict(X_test)\n",
    "train_pred = random_forest.predict(X_train)\n",
    "\n",
    "print('Test set evaluation:\\n_____________________________________')\n",
    "print_evaluate(y_test, test_pred)\n",
    "\n",
    "print('Train set evaluation:\\n_____________________________________')\n",
    "print_evaluate(y_train, train_pred)"
   ]
  },
  {
   "cell_type": "code",
   "execution_count": 105,
   "id": "828f8167",
   "metadata": {},
   "outputs": [],
   "source": [
    "results_df5 = pd.DataFrame(data=[[\"Random Forest\", *evaluate(y_test, test_pred) ]], \n",
    "                          columns=['Model', 'MAE', 'MSE', 'RMSE', 'R2 Square'])\n",
    "results_df = results_df.append(results_df5, ignore_index=True)"
   ]
  },
  {
   "cell_type": "markdown",
   "id": "703c6883",
   "metadata": {},
   "source": [
    "## <a id='section37'>3.7 K Neighbors Regressor</a>"
   ]
  },
  {
   "cell_type": "code",
   "execution_count": 106,
   "id": "41b70659",
   "metadata": {},
   "outputs": [],
   "source": [
    "from sklearn import neighbors\n",
    "from sklearn.neighbors import KNeighborsClassifier\n",
    "from sklearn.preprocessing import MinMaxScaler\n",
    "from sklearn.model_selection import GridSearchCV"
   ]
  },
  {
   "cell_type": "code",
   "execution_count": 107,
   "id": "57e0b71f",
   "metadata": {},
   "outputs": [],
   "source": [
    "scaler = MinMaxScaler(feature_range=(0, 1))\n",
    "X_train_scaled = scaler.fit_transform(X_train)\n",
    "X_test_scaled = scaler.fit_transform(X_test)"
   ]
  },
  {
   "cell_type": "code",
   "execution_count": 108,
   "id": "dc8448e4",
   "metadata": {},
   "outputs": [
    {
     "name": "stdout",
     "output_type": "stream",
     "text": [
      "Test set evaluation:\n",
      "_____________________________________\n",
      "MAE: 26701.108847806627\n",
      "MSE: 1147255134.210274\n",
      "RMSE: 33871.15489926899\n",
      "R2 Square 0.101830081756907\n",
      "__________________________________\n",
      "Train set evaluation:\n",
      "_____________________________________\n",
      "MAE: 21424.337934524596\n",
      "MSE: 740763824.9008259\n",
      "RMSE: 27216.976777387048\n",
      "R2 Square 0.3884940638898089\n",
      "__________________________________\n"
     ]
    }
   ],
   "source": [
    "knn = neighbors.KNeighborsRegressor(n_neighbors=5)\n",
    "knn.fit(X_train_scaled, y_train)\n",
    "\n",
    "test_pred = knn.predict(X_test_scaled)\n",
    "train_pred = knn.predict(X_train_scaled)\n",
    "\n",
    "print('Test set evaluation:\\n_____________________________________')\n",
    "print_evaluate(y_test, test_pred)\n",
    "\n",
    "print('Train set evaluation:\\n_____________________________________')\n",
    "print_evaluate(y_train, train_pred)"
   ]
  },
  {
   "cell_type": "markdown",
   "id": "bd83e3ec",
   "metadata": {},
   "source": [
    "### K Neighbors Regressor with Grid-Search"
   ]
  },
  {
   "cell_type": "code",
   "execution_count": 109,
   "id": "9156aa5b",
   "metadata": {},
   "outputs": [
    {
     "data": {
      "text/plain": [
       "{'n_neighbors': 12}"
      ]
     },
     "execution_count": 109,
     "metadata": {},
     "output_type": "execute_result"
    }
   ],
   "source": [
    "params = {'n_neighbors':[2,3,4,5,6,7,8,9,10,11,12,13,14,15,16,7]}\n",
    "\n",
    "knn = neighbors.KNeighborsRegressor()\n",
    "knn = GridSearchCV(knn, params, cv=5)\n",
    "knn.fit(X_train_scaled,y_train)\n",
    "knn.best_params_"
   ]
  },
  {
   "cell_type": "code",
   "execution_count": 110,
   "id": "94bc3dae",
   "metadata": {},
   "outputs": [],
   "source": [
    "knn = neighbors.KNeighborsRegressor(n_neighbors=12)\n",
    "knn.fit(X_train_scaled, y_train);"
   ]
  },
  {
   "cell_type": "code",
   "execution_count": 111,
   "id": "c917d755",
   "metadata": {},
   "outputs": [
    {
     "name": "stdout",
     "output_type": "stream",
     "text": [
      "Test set evaluation:\n",
      "_____________________________________\n",
      "MAE: 26191.659013055807\n",
      "MSE: 1092249938.2375546\n",
      "RMSE: 33049.20480492011\n",
      "R2 Square 0.14489287650636828\n",
      "__________________________________\n",
      "Train set evaluation:\n",
      "_____________________________________\n",
      "MAE: 23613.19629833076\n",
      "MSE: 882310983.8023442\n",
      "RMSE: 29703.720033058893\n",
      "R2 Square 0.27164585262706353\n",
      "__________________________________\n"
     ]
    }
   ],
   "source": [
    "test_pred = knn.predict(X_test_scaled)\n",
    "train_pred = knn.predict(X_train_scaled)\n",
    "\n",
    "print('Test set evaluation:\\n_____________________________________')\n",
    "print_evaluate(y_test, test_pred)\n",
    "\n",
    "print('Train set evaluation:\\n_____________________________________')\n",
    "print_evaluate(y_train, train_pred)"
   ]
  },
  {
   "cell_type": "code",
   "execution_count": 112,
   "id": "f5681b05",
   "metadata": {},
   "outputs": [],
   "source": [
    "results_df6 = pd.DataFrame(data=[[\"K Neighbors\", *evaluate(y_test, test_pred) ]], \n",
    "                          columns=['Model', 'MAE', 'MSE', 'RMSE', 'R2 Square'])\n",
    "results_df = results_df.append(results_df6, ignore_index=True)"
   ]
  },
  {
   "cell_type": "markdown",
   "id": "fe07c9df",
   "metadata": {},
   "source": [
    "## <a id='section4'>4. Conclusion</a>"
   ]
  },
  {
   "cell_type": "code",
   "execution_count": 113,
   "id": "52de3644",
   "metadata": {},
   "outputs": [
    {
     "data": {
      "text/html": [
       "<div>\n",
       "<style scoped>\n",
       "    .dataframe tbody tr th:only-of-type {\n",
       "        vertical-align: middle;\n",
       "    }\n",
       "\n",
       "    .dataframe tbody tr th {\n",
       "        vertical-align: top;\n",
       "    }\n",
       "\n",
       "    .dataframe thead th {\n",
       "        text-align: right;\n",
       "    }\n",
       "</style>\n",
       "<table border=\"1\" class=\"dataframe\">\n",
       "  <thead>\n",
       "    <tr style=\"text-align: right;\">\n",
       "      <th></th>\n",
       "      <th>Model</th>\n",
       "      <th>MAE</th>\n",
       "      <th>MSE</th>\n",
       "      <th>RMSE</th>\n",
       "      <th>R2 Square</th>\n",
       "    </tr>\n",
       "  </thead>\n",
       "  <tbody>\n",
       "    <tr>\n",
       "      <th>0</th>\n",
       "      <td>Linear Regression</td>\n",
       "      <td>25266.293790</td>\n",
       "      <td>1.015738e+09</td>\n",
       "      <td>31870.652100</td>\n",
       "      <td>0.204793</td>\n",
       "    </tr>\n",
       "    <tr>\n",
       "      <th>1</th>\n",
       "      <td>Polynomial Regression</td>\n",
       "      <td>24793.662305</td>\n",
       "      <td>9.684604e+08</td>\n",
       "      <td>31120.096968</td>\n",
       "      <td>0.241806</td>\n",
       "    </tr>\n",
       "    <tr>\n",
       "      <th>2</th>\n",
       "      <td>Ridge Regression</td>\n",
       "      <td>25181.853400</td>\n",
       "      <td>1.007379e+09</td>\n",
       "      <td>31739.239464</td>\n",
       "      <td>0.211337</td>\n",
       "    </tr>\n",
       "    <tr>\n",
       "      <th>3</th>\n",
       "      <td>Lasso Regression</td>\n",
       "      <td>25172.837058</td>\n",
       "      <td>1.007287e+09</td>\n",
       "      <td>31737.777740</td>\n",
       "      <td>0.211410</td>\n",
       "    </tr>\n",
       "    <tr>\n",
       "      <th>4</th>\n",
       "      <td>Random Forest</td>\n",
       "      <td>17495.360957</td>\n",
       "      <td>5.496313e+08</td>\n",
       "      <td>23444.217791</td>\n",
       "      <td>0.569701</td>\n",
       "    </tr>\n",
       "    <tr>\n",
       "      <th>5</th>\n",
       "      <td>K Neighbors</td>\n",
       "      <td>26191.659013</td>\n",
       "      <td>1.092250e+09</td>\n",
       "      <td>33049.204805</td>\n",
       "      <td>0.144893</td>\n",
       "    </tr>\n",
       "  </tbody>\n",
       "</table>\n",
       "</div>"
      ],
      "text/plain": [
       "                   Model           MAE           MSE          RMSE  R2 Square\n",
       "0      Linear Regression  25266.293790  1.015738e+09  31870.652100   0.204793\n",
       "1  Polynomial Regression  24793.662305  9.684604e+08  31120.096968   0.241806\n",
       "2       Ridge Regression  25181.853400  1.007379e+09  31739.239464   0.211337\n",
       "3       Lasso Regression  25172.837058  1.007287e+09  31737.777740   0.211410\n",
       "4          Random Forest  17495.360957  5.496313e+08  23444.217791   0.569701\n",
       "5            K Neighbors  26191.659013  1.092250e+09  33049.204805   0.144893"
      ]
     },
     "execution_count": 113,
     "metadata": {},
     "output_type": "execute_result"
    }
   ],
   "source": [
    "results_df"
   ]
  },
  {
   "cell_type": "markdown",
   "id": "3a434327",
   "metadata": {},
   "source": [
    "- __Mean absolute error (MAE)__\n",
    "\n",
    "In simple terms, mean absolute error is the sum of absolute/positive errors of all values.\n",
    "\n",
    "- __Mean Square Error (MSE)__\n",
    "\n",
    "Mean square error is always positive and a value closer to 0 or a lower value is better.\n",
    "\n",
    "- __Root mean square error (RMSE)__\n",
    "\n",
    "Square root of MSE yields root mean square error (RMSE). \n",
    "\n",
    "- __R2 Square__\n",
    "\n",
    "The coefficient of determination or R-squared represents the proportion of the variance in the dependent variable which is explained by the linear regression model. "
   ]
  },
  {
   "cell_type": "markdown",
   "id": "88f65d45",
   "metadata": {},
   "source": [
    "In conclusion, the highest R-squared is in Random Forest Regressor - 0.569, however there is an enormous gap between test and train set evaluation. We can suppose that there is an overfitting, despite the fact that we have tuned hyperparameters.\n",
    "\n",
    "Because of this fact, we assume that Polynomial with a degree 2 did a better job than other models.\n",
    "\n",
    "For the Linear Regression, R-squared has increased from 0.0927 to 0.2047 for our test set when we used Grid-Search.\n",
    "\n",
    "For the Ridge Regression, nothing has changed drastically, performance increaseg only by 0.0003. \n",
    "Ridge didn't overfit the training data much during its training phase, and hence performed good on test set.\n",
    "\n",
    "For the Lasso Regression, before tuning R-squared was 0.1302, and after hyperparameters tuning became 0.2114.\n",
    "\n",
    "K Neighbors Regressor unlike other models showed the poorest performance."
   ]
  }
 ],
 "metadata": {
  "kernelspec": {
   "display_name": "Python 3",
   "language": "python",
   "name": "python3"
  },
  "language_info": {
   "codemirror_mode": {
    "name": "ipython",
    "version": 3
   },
   "file_extension": ".py",
   "mimetype": "text/x-python",
   "name": "python",
   "nbconvert_exporter": "python",
   "pygments_lexer": "ipython3",
   "version": "3.8.8"
  }
 },
 "nbformat": 4,
 "nbformat_minor": 5
}
